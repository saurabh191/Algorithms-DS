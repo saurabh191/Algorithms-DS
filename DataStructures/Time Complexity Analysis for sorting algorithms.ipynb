{
 "cells": [
  {
   "cell_type": "markdown",
   "metadata": {},
   "source": [
    "### Insertion Sort"
   ]
  },
  {
   "cell_type": "code",
   "execution_count": 9,
   "metadata": {},
   "outputs": [],
   "source": [
    "def insertionSort(A,n):\n",
    "    for i in range(1,n):\n",
    "        value = A[i]\n",
    "        hole = i\n",
    "        while hole > 0 and A[hole -1] > value:\n",
    "            A[hole] = A[hole -1]\n",
    "            hole-=1\n",
    "        A[hole] = value\n",
    "    return A"
   ]
  },
  {
   "cell_type": "code",
   "execution_count": 10,
   "metadata": {},
   "outputs": [
    {
     "name": "stdout",
     "output_type": "stream",
     "text": [
      "[1, 2, 3, 4, 5, 7]\n"
     ]
    }
   ],
   "source": [
    "A=[7,2,4,1,5,3]\n",
    "sortedArray = insertionSort(A,len(A))\n",
    "print(sortedArray)"
   ]
  },
  {
   "cell_type": "markdown",
   "metadata": {},
   "source": [
    "- Worst case time complexity = O(n^2)\n",
    "- Best case time complexity = O(n)"
   ]
  },
  {
   "cell_type": "markdown",
   "metadata": {},
   "source": [
    "### Selection sort"
   ]
  },
  {
   "cell_type": "code",
   "execution_count": 25,
   "metadata": {},
   "outputs": [],
   "source": [
    "def selectionSort(A,n):\n",
    "    for i in range(0,n-1):\n",
    "        minPos = i\n",
    "        for j in range(i,n):\n",
    "            if A[j] < A[minPos]:\n",
    "                minPos = j\n",
    "        temp = A[i]\n",
    "        A[i] = A[minPos]\n",
    "        A[minPos] = temp\n",
    "#         print(A)\n",
    "    return A"
   ]
  },
  {
   "cell_type": "code",
   "execution_count": 26,
   "metadata": {},
   "outputs": [
    {
     "name": "stdout",
     "output_type": "stream",
     "text": [
      "[1, 2, 3, 4, 5, 7]\n"
     ]
    }
   ],
   "source": [
    "A=[7,2,4,1,5,3]\n",
    "sortedArray = selectionSort(A,len(A))\n",
    "print(sortedArray)"
   ]
  },
  {
   "cell_type": "markdown",
   "metadata": {},
   "source": [
    "- Worst case time complexity = O(n^2)\n",
    "- Best case time complexity = O(n^2)"
   ]
  },
  {
   "cell_type": "markdown",
   "metadata": {},
   "source": [
    "### Merge Sort"
   ]
  },
  {
   "cell_type": "code",
   "execution_count": 4,
   "metadata": {},
   "outputs": [
    {
     "name": "stdout",
     "output_type": "stream",
     "text": [
      "10\n",
      "10 9 8 7 6 5 4 3 2 1\n",
      "1 2 3 4 5 6 7 8 9 10\n"
     ]
    }
   ],
   "source": [
    "def merge(arr1,arr2,arr):\n",
    "    i = 0\n",
    "    j = 0\n",
    "    k = 0\n",
    "    while i < len(arr1) and j < len(arr2):\n",
    "        if arr1[i] < arr2[j]:\n",
    "            arr[k] = arr1[i]\n",
    "            i+=1\n",
    "            k+=1\n",
    "        else:\n",
    "            arr[k] = arr2[j]\n",
    "            j+=1\n",
    "            k+=1\n",
    "    while i < len(arr1):\n",
    "        arr[k] = arr1[i]\n",
    "        i+=1\n",
    "        k+=1\n",
    "    while j < len(arr2):\n",
    "        arr[k] = arr2[j]\n",
    "        j+=1\n",
    "        k+=1\n",
    "        \n",
    "    \n",
    "def mergeSort(arr):\n",
    "    if len(arr) == 0 or len(arr) == 1:\n",
    "        return\n",
    "    mid = len(arr)//2\n",
    "    arr1 = arr[0:mid]\n",
    "    arr2 = arr[mid:]\n",
    "    mergeSort(arr1)\n",
    "    mergeSort(arr2)\n",
    "    merge(arr1,arr2,arr)\n",
    "\n",
    "# Main\n",
    "n=int(input())\n",
    "arr=list(int(i) for i in input().strip().split(' '))\n",
    "mergeSort(arr)\n",
    "print(*arr)"
   ]
  },
  {
   "cell_type": "markdown",
   "metadata": {},
   "source": [
    "- Time complexity = O(nlogn)\n",
    "- Space complexity = O(n)"
   ]
  },
  {
   "cell_type": "code",
   "execution_count": null,
   "metadata": {},
   "outputs": [],
   "source": []
  },
  {
   "cell_type": "markdown",
   "metadata": {},
   "source": [
    "### Quick Sort"
   ]
  },
  {
   "cell_type": "code",
   "execution_count": 3,
   "metadata": {},
   "outputs": [
    {
     "name": "stdout",
     "output_type": "stream",
     "text": [
      "10\n",
      "10 9 8 7 6 5 4 3 2 1\n",
      "1 2 3 4 5 6 7 8 9 10\n"
     ]
    }
   ],
   "source": [
    "def partition(arr,si,ei):\n",
    "    count = 0\n",
    "    pivot = arr[si]\n",
    "    for i in range(si,ei+1):\n",
    "        if arr[i] < pivot:\n",
    "            count+=1\n",
    "    arr[si],arr[count+si] = arr[count+si],arr[si]\n",
    "    pivot_index=count+si   \n",
    "    i = si\n",
    "    j = ei\n",
    "    while i < j:\n",
    "        if arr[i] < pivot:\n",
    "            i+=1\n",
    "        elif arr[j] >= pivot:\n",
    "            j-=1\n",
    "        else:\n",
    "            arr[i],arr[j] = arr[j],arr[i]\n",
    "            i+=1\n",
    "            j-=1\n",
    "    return pivot_index\n",
    "\n",
    "def quickSort(arr, start, end):\n",
    "    if start >= end:\n",
    "        return\n",
    "    pivot_index = partition(arr,start,end)\n",
    "    quickSort(arr,start,pivot_index-1)\n",
    "    quickSort(arr,pivot_index+1,end)\n",
    "    \n",
    "\n",
    "n=int(input())\n",
    "arr=list(int(i) for i in input().strip().split(' '))\n",
    "quickSort(arr, 0, n-1)\n",
    "print(*arr)"
   ]
  },
  {
   "cell_type": "markdown",
   "metadata": {},
   "source": [
    "- Time complexity = In Best case it's O(nlogn) and in worst case it's O(n^2)\n",
    "- Space complexity = O(n)"
   ]
  },
  {
   "cell_type": "code",
   "execution_count": null,
   "metadata": {},
   "outputs": [],
   "source": []
  }
 ],
 "metadata": {
  "kernelspec": {
   "display_name": "Python 3",
   "language": "python",
   "name": "python3"
  },
  "language_info": {
   "codemirror_mode": {
    "name": "ipython",
    "version": 3
   },
   "file_extension": ".py",
   "mimetype": "text/x-python",
   "name": "python",
   "nbconvert_exporter": "python",
   "pygments_lexer": "ipython3",
   "version": "3.8.3"
  }
 },
 "nbformat": 4,
 "nbformat_minor": 4
}
