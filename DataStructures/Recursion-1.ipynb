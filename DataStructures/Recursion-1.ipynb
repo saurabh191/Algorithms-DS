{
 "cells": [
  {
   "cell_type": "markdown",
   "metadata": {},
   "source": [
    "- Steps:\n",
    "    1. Base Case\n",
    "    2. Induction Hypothesis\n",
    "    3. final result/calculation"
   ]
  },
  {
   "cell_type": "markdown",
   "metadata": {},
   "source": [
    "- Factorial of a number"
   ]
  },
  {
   "cell_type": "code",
   "execution_count": 2,
   "metadata": {},
   "outputs": [
    {
     "name": "stdout",
     "output_type": "stream",
     "text": [
      "5\n"
     ]
    },
    {
     "data": {
      "text/plain": [
       "120"
      ]
     },
     "execution_count": 2,
     "metadata": {},
     "output_type": "execute_result"
    }
   ],
   "source": [
    "def fact(n):\n",
    "    if n == 0:\n",
    "        return 1\n",
    "    return n * fact(n-1)\n",
    "n=int(input())\n",
    "fact(n)"
   ]
  },
  {
   "cell_type": "markdown",
   "metadata": {},
   "source": [
    "- Sum of n natural numbers using recursion"
   ]
  },
  {
   "cell_type": "code",
   "execution_count": 5,
   "metadata": {},
   "outputs": [
    {
     "name": "stdout",
     "output_type": "stream",
     "text": [
      "5\n"
     ]
    },
    {
     "data": {
      "text/plain": [
       "15"
      ]
     },
     "execution_count": 5,
     "metadata": {},
     "output_type": "execute_result"
    }
   ],
   "source": [
    "def sum_n(n):\n",
    "    if n == 0:\n",
    "        return 0\n",
    "    smallOutput = sum_n(n-1)\n",
    "    return n + smallOutput\n",
    "n=int(input())\n",
    "sum_n(n)"
   ]
  },
  {
   "cell_type": "markdown",
   "metadata": {},
   "source": [
    "- Find x raise to n by recurion"
   ]
  },
  {
   "cell_type": "code",
   "execution_count": 8,
   "metadata": {},
   "outputs": [
    {
     "name": "stdout",
     "output_type": "stream",
     "text": [
      "3 4\n"
     ]
    },
    {
     "data": {
      "text/plain": [
       "81"
      ]
     },
     "execution_count": 8,
     "metadata": {},
     "output_type": "execute_result"
    }
   ],
   "source": [
    "def raise_to(x,n):\n",
    "    if n == 0:\n",
    "        return 1\n",
    "    smallOutput = raise_to(x,n-1)\n",
    "    return x*raise_to(x,n-1)\n",
    "val=list(int(i) for i in input().split(\" \"))\n",
    "raise_to(val[0],val[1])"
   ]
  },
  {
   "cell_type": "markdown",
   "metadata": {},
   "source": [
    "- Print number from 1 to n"
   ]
  },
  {
   "cell_type": "code",
   "execution_count": 9,
   "metadata": {},
   "outputs": [
    {
     "name": "stdout",
     "output_type": "stream",
     "text": [
      "5\n",
      "1\n",
      "2\n",
      "3\n",
      "4\n",
      "5\n"
     ]
    }
   ],
   "source": [
    "def print_1toN(n):\n",
    "    if n == 0:\n",
    "        return 0\n",
    "    smallOutput = print_1toN(n-1)\n",
    "    print(n)\n",
    "    return\n",
    "n=int(input())\n",
    "print_1toN(n)"
   ]
  },
  {
   "cell_type": "markdown",
   "metadata": {},
   "source": [
    "- Print numbers from n to 1"
   ]
  },
  {
   "cell_type": "code",
   "execution_count": 10,
   "metadata": {},
   "outputs": [
    {
     "name": "stdout",
     "output_type": "stream",
     "text": [
      "5\n",
      "5\n",
      "4\n",
      "3\n",
      "2\n",
      "1\n"
     ]
    }
   ],
   "source": [
    "def print_1toN(n):\n",
    "    if n == 0:\n",
    "        return 0\n",
    "    print(n)\n",
    "    smallOutput = print_1toN(n-1)\n",
    "    return\n",
    "n=int(input())\n",
    "print_1toN(n)"
   ]
  },
  {
   "cell_type": "markdown",
   "metadata": {},
   "source": [
    "- Fibonacci series"
   ]
  },
  {
   "cell_type": "code",
   "execution_count": 4,
   "metadata": {},
   "outputs": [
    {
     "name": "stdout",
     "output_type": "stream",
     "text": [
      "1\n"
     ]
    },
    {
     "data": {
      "text/plain": [
       "1"
      ]
     },
     "execution_count": 4,
     "metadata": {},
     "output_type": "execute_result"
    }
   ],
   "source": [
    "import sys\n",
    "sys.setrecursionlimit(3000)\n",
    "def fib(n):\n",
    "    if n == 1 or n == 2:\n",
    "        return 1\n",
    "    fib_n_1 = fib(n-1)\n",
    "    fib_n_2 = fib(n-2)\n",
    "    return fib_n_1 + fib_n_2\n",
    "n = int(input())\n",
    "fib(n)"
   ]
  },
  {
   "cell_type": "markdown",
   "metadata": {},
   "source": [
    "- NOTE: If the syste resurion limit needs to be extended, then we can extend it by:\n",
    "          import sys\n",
    "          sys.setrecursionlimit(3000)"
   ]
  },
  {
   "cell_type": "markdown",
   "metadata": {},
   "source": [
    "- Check if list is sorted or not"
   ]
  },
  {
   "cell_type": "code",
   "execution_count": 21,
   "metadata": {},
   "outputs": [
    {
     "name": "stdout",
     "output_type": "stream",
     "text": [
      "1 2 3 5 4\n"
     ]
    },
    {
     "data": {
      "text/plain": [
       "False"
      ]
     },
     "execution_count": 21,
     "metadata": {},
     "output_type": "execute_result"
    }
   ],
   "source": [
    "#Approach-1\n",
    "\n",
    "def isSorted(n):\n",
    "    if len(n) == 0 or len(n) == 1:\n",
    "        return True\n",
    "    if n[0] > n[1]:\n",
    "        return False\n",
    "    smallerList = n[1:]\n",
    "    isSmallersorted = isSorted(smallerList)\n",
    "    return isSmallersorted\n",
    "n = list(int(i) for i in input().split(\" \"))\n",
    "isSorted(n)"
   ]
  },
  {
   "cell_type": "code",
   "execution_count": 24,
   "metadata": {},
   "outputs": [
    {
     "name": "stdout",
     "output_type": "stream",
     "text": [
      "1 2 3 4 5 7 6\n"
     ]
    },
    {
     "data": {
      "text/plain": [
       "False"
      ]
     },
     "execution_count": 24,
     "metadata": {},
     "output_type": "execute_result"
    }
   ],
   "source": [
    "#Approach-2\n",
    "\n",
    "def isSortedBetter(n,si):\n",
    "    if si == len(n) or si == len(n) -1:\n",
    "        return True\n",
    "    if n[si] > n[si+1]:\n",
    "        return False\n",
    "    return isSortedBetter(n,si+1)\n",
    "n = list(int(i) for i in input().split(\" \"))\n",
    "isSortedBetter(n,0)"
   ]
  },
  {
   "cell_type": "markdown",
   "metadata": {},
   "source": [
    "- Sum of numbers in an array"
   ]
  },
  {
   "cell_type": "code",
   "execution_count": 43,
   "metadata": {},
   "outputs": [
    {
     "name": "stdout",
     "output_type": "stream",
     "text": [
      "5\n",
      "1 2 3 4 5\n",
      "15\n"
     ]
    }
   ],
   "source": [
    "def sumArray(x):\n",
    "    if len(x) == 0:\n",
    "        return 0\n",
    "    smallOutput = sumArray(x[0: len(x)-1],)\n",
    "    return x[len(x) -1] + smallOutput\n",
    "n = int(input())\n",
    "x = list(int(i) for i in input().strip().split())\n",
    "print(sumArray(x))\n"
   ]
  },
  {
   "cell_type": "markdown",
   "metadata": {},
   "source": [
    "- Check if a number exists in an array"
   ]
  },
  {
   "cell_type": "code",
   "execution_count": 44,
   "metadata": {},
   "outputs": [
    {
     "name": "stdout",
     "output_type": "stream",
     "text": [
      "5\n",
      "1 3 6 8 11 28\n",
      "11\n",
      "true\n"
     ]
    }
   ],
   "source": [
    "def checkNumber(arr,x,si): # si is start index\n",
    "    if si == len(arr):\n",
    "        return False\n",
    "    if arr[si] == x:\n",
    "        return True\n",
    "    return checkNumber(arr,x,si+1)\n",
    "\n",
    "\n",
    "n=int(input())\n",
    "arr=list(int(i) for i in input().strip().split(' '))\n",
    "x=int(input())\n",
    "if checkNumber(arr, x,0):\n",
    "    print('true')\n",
    "else:\n",
    "    print('false')"
   ]
  },
  {
   "cell_type": "markdown",
   "metadata": {},
   "source": [
    "- Find the first occurance of a number in a list"
   ]
  },
  {
   "cell_type": "code",
   "execution_count": 2,
   "metadata": {},
   "outputs": [
    {
     "name": "stdout",
     "output_type": "stream",
     "text": [
      "6\n",
      "1 3 5 7 2 10\n",
      "2\n",
      "4\n"
     ]
    }
   ],
   "source": [
    "#Approach-1\n",
    "\n",
    "def firstIndex(arr,x):\n",
    "    if len(arr) == 0:\n",
    "        return -1\n",
    "    if arr[0] == x:\n",
    "        return 0\n",
    "    shortArray = arr[1:len(arr)]\n",
    "    shortArrayindex = firstIndex(shortArray,x)\n",
    "    if shortArrayindex == -1:\n",
    "        return -1\n",
    "    else:\n",
    "        return shortArrayindex+1\n",
    "# Main\n",
    "from sys import setrecursionlimit\n",
    "setrecursionlimit(11000)\n",
    "n=int(input())\n",
    "arr=list(int(i) for i in input().strip().split(' '))\n",
    "x=int(input())\n",
    "print(firstIndex(arr, x))\n"
   ]
  },
  {
   "cell_type": "code",
   "execution_count": 4,
   "metadata": {},
   "outputs": [
    {
     "name": "stdout",
     "output_type": "stream",
     "text": [
      "6\n",
      "1 3 5 7 2 10\n",
      "2\n",
      "4\n"
     ]
    }
   ],
   "source": [
    "#Approach-2\n",
    "\n",
    "def firstIndexBetter(arr,x,si):\n",
    "    if si == len(arr):\n",
    "        return -1\n",
    "    if arr[si] == x:\n",
    "        return si\n",
    "    return firstIndexBetter(arr,x,si+1)\n",
    "    \n",
    "    \n",
    "# Main\n",
    "from sys import setrecursionlimit\n",
    "setrecursionlimit(11000)\n",
    "n=int(input())\n",
    "arr=list(int(i) for i in input().strip().split(' '))\n",
    "x=int(input())\n",
    "print(firstIndexBetter(arr, x,0))\n"
   ]
  },
  {
   "cell_type": "markdown",
   "metadata": {},
   "source": [
    "- Find the last occurance of a number in a list"
   ]
  },
  {
   "cell_type": "code",
   "execution_count": 8,
   "metadata": {},
   "outputs": [
    {
     "name": "stdout",
     "output_type": "stream",
     "text": [
      "4\n",
      "9 8 10 8\n",
      "8\n",
      "3\n"
     ]
    }
   ],
   "source": [
    "# Approach-1\n",
    "\n",
    "def lastIndex(arr, x):\n",
    "    if len(arr) == 0:\n",
    "        return -1\n",
    "#     if arr[1] == x:\n",
    "#         return 1\n",
    "    shortArray = arr[1:len(arr)]\n",
    "    shortArrayOut = lastIndex(shortArray,x)\n",
    "    if shortArrayOut == -1:\n",
    "        if arr[0] == x:\n",
    "            return 0\n",
    "        else:\n",
    "            return -1\n",
    "    else:\n",
    "        return shortArrayOut+1\n",
    "\n",
    "\n",
    "from sys import setrecursionlimit\n",
    "setrecursionlimit(11000)\n",
    "n=int(input())\n",
    "arr=list(int(i) for i in input().strip().split(' '))\n",
    "x=int(input())\n",
    "print(lastIndex(arr, x))"
   ]
  },
  {
   "cell_type": "code",
   "execution_count": 7,
   "metadata": {},
   "outputs": [
    {
     "name": "stdout",
     "output_type": "stream",
     "text": [
      "4\n",
      "9 8 10 8\n",
      "8\n",
      "3\n"
     ]
    }
   ],
   "source": [
    "# Approach-2\n",
    "\n",
    "def lastIndexBetter(arr, x,si):\n",
    "    if si == len(arr):\n",
    "        return -1\n",
    "    shortArrayOut = lastIndexBetter(arr,x,si+1)\n",
    "    if shortArrayOut == -1:\n",
    "        if arr[si] == x:\n",
    "            return si\n",
    "        else:\n",
    "            return -1\n",
    "    else:\n",
    "        return shortArrayOut\n",
    "\n",
    "\n",
    "from sys import setrecursionlimit\n",
    "setrecursionlimit(11000)\n",
    "n=int(input())\n",
    "arr=list(int(i) for i in input().strip().split(' '))\n",
    "x=int(input())\n",
    "print(lastIndexBetter(arr, x,0))"
   ]
  },
  {
   "cell_type": "code",
   "execution_count": null,
   "metadata": {},
   "outputs": [],
   "source": []
  }
 ],
 "metadata": {
  "kernelspec": {
   "display_name": "Python 3",
   "language": "python",
   "name": "python3"
  },
  "language_info": {
   "codemirror_mode": {
    "name": "ipython",
    "version": 3
   },
   "file_extension": ".py",
   "mimetype": "text/x-python",
   "name": "python",
   "nbconvert_exporter": "python",
   "pygments_lexer": "ipython3",
   "version": "3.8.3"
  }
 },
 "nbformat": 4,
 "nbformat_minor": 4
}
