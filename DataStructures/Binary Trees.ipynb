{
 "cells": [
  {
   "cell_type": "markdown",
   "metadata": {},
   "source": [
    "### Creating Node structure for BinaryTree"
   ]
  },
  {
   "cell_type": "code",
   "execution_count": 1,
   "metadata": {},
   "outputs": [],
   "source": [
    "class Node:\n",
    "    def __init__(self,data):\n",
    "        self.data = data\n",
    "        self.left = None\n",
    "        self.right = None"
   ]
  },
  {
   "cell_type": "markdown",
   "metadata": {},
   "source": [
    "### Printing a BinaryTree"
   ]
  },
  {
   "cell_type": "code",
   "execution_count": 2,
   "metadata": {},
   "outputs": [],
   "source": [
    "def printTreeDetailed(root):\n",
    "    if root is None:\n",
    "        return\n",
    "    print(root.data,end = ': ')\n",
    "    if root.left is not None:\n",
    "        print(\"L\",root.left.data, end=',')\n",
    "    if root.right is not None:\n",
    "        print(\"R\",root.right.data, end=\"\")\n",
    "    print()\n",
    "    printTreeDetailed(root.left)\n",
    "    printTreeDetailed(root.right)"
   ]
  },
  {
   "cell_type": "code",
   "execution_count": 3,
   "metadata": {},
   "outputs": [],
   "source": [
    "btn1 = Node(1)\n",
    "btn2 = Node(2)\n",
    "btn3 = Node(3)\n",
    "btn4 = Node(4)\n",
    "btn5 = Node(5)\n",
    "btn6 = Node(6)"
   ]
  },
  {
   "cell_type": "code",
   "execution_count": 4,
   "metadata": {},
   "outputs": [],
   "source": [
    "btn1.left = btn2\n",
    "btn1.right = btn3\n",
    "\n",
    "btn2.left = btn4\n",
    "btn2.right = btn5\n",
    "\n",
    "btn3.right = btn6"
   ]
  },
  {
   "cell_type": "code",
   "execution_count": 5,
   "metadata": {},
   "outputs": [
    {
     "name": "stdout",
     "output_type": "stream",
     "text": [
      "1: L 2,R 3\n",
      "2: L 4,R 5\n",
      "4: \n",
      "5: \n",
      "3: R 6\n",
      "6: \n"
     ]
    }
   ],
   "source": [
    "printTreeDetailed(btn1)"
   ]
  },
  {
   "cell_type": "markdown",
   "metadata": {},
   "source": [
    "### Taking input for BinaryTree creation"
   ]
  },
  {
   "cell_type": "code",
   "execution_count": 8,
   "metadata": {},
   "outputs": [],
   "source": [
    "def treeInput():\n",
    "    rootData = int(input())\n",
    "    if rootData == -1:\n",
    "        return None\n",
    "    \n",
    "    root = Node(rootData)\n",
    "    leftTree = treeInput()\n",
    "    rightTree = treeInput()\n",
    "    root.left = leftTree\n",
    "    root.right = rightTree\n",
    "    return root"
   ]
  },
  {
   "cell_type": "markdown",
   "metadata": {},
   "source": [
    "### Calculating number of node of a BinaryTree"
   ]
  },
  {
   "cell_type": "code",
   "execution_count": 14,
   "metadata": {},
   "outputs": [],
   "source": [
    "def numNodes(root):\n",
    "    if root is None:\n",
    "        return 0\n",
    "    leftcount = numNodes(root.left)\n",
    "    rightcount = numNodes(root.right)\n",
    "    return 1+leftcount+rightcount"
   ]
  },
  {
   "cell_type": "code",
   "execution_count": 16,
   "metadata": {},
   "outputs": [
    {
     "name": "stdout",
     "output_type": "stream",
     "text": [
      "1\n",
      "2\n",
      "4\n",
      "-1\n",
      "-1\n",
      "5\n",
      "-1\n",
      "-1\n",
      "3\n",
      "6\n",
      "7\n",
      "-1\n",
      "-1\n",
      "-1\n",
      "-1\n",
      "1: L 2,R 3\n",
      "2: L 4,R 5\n",
      "4: \n",
      "5: \n",
      "3: L 6,\n",
      "6: L 7,\n",
      "7: \n",
      "Total number of Node:  7\n"
     ]
    }
   ],
   "source": [
    "root = treeInput()\n",
    "printTreeDetailed(root)\n",
    "print(\"Total number of Node: \", numNodes(root))"
   ]
  },
  {
   "cell_type": "markdown",
   "metadata": {},
   "source": [
    "### Calculating the sum of all the node of a BinaryTree"
   ]
  },
  {
   "cell_type": "code",
   "execution_count": 13,
   "metadata": {},
   "outputs": [],
   "source": [
    "def sumofNodes(root):\n",
    "    if root is None:\n",
    "        return 0\n",
    "    leftsum = sumofNodes(root.left)\n",
    "    rightsum = sumofNodes(root.right)\n",
    "    return root.data+leftsum+rightsum"
   ]
  },
  {
   "cell_type": "code",
   "execution_count": 14,
   "metadata": {},
   "outputs": [
    {
     "name": "stdout",
     "output_type": "stream",
     "text": [
      "1\n",
      "2\n",
      "3\n",
      "-1\n",
      "-1\n",
      "4\n",
      "-1\n",
      "-1\n",
      "5\n",
      "6\n",
      "-1\n",
      "7\n",
      "-1\n",
      "-1\n",
      "-1\n",
      "1: L 2,R 5\n",
      "2: L 3,R 4\n",
      "3: \n",
      "4: \n",
      "5: L 6,\n",
      "6: R 7\n",
      "7: \n",
      "Total number of Node:  28\n"
     ]
    }
   ],
   "source": [
    "root = treeInput()\n",
    "printTreeDetailed(root)\n",
    "print(\"Total number of Node: \", sumofNodes(root))"
   ]
  },
  {
   "cell_type": "markdown",
   "metadata": {},
   "source": [
    "### There are 3 ways of traversing/printing a Binary Tree:\n",
    "\n",
    "```\n",
    " 1. Pre-Order\n",
    " 2. Post-Order\n",
    " 3. In-Order\n",
    "```"
   ]
  },
  {
   "cell_type": "markdown",
   "metadata": {},
   "source": [
    "### Preorder Binary Tree"
   ]
  },
  {
   "cell_type": "code",
   "execution_count": 16,
   "metadata": {},
   "outputs": [],
   "source": [
    "def preOrder(root):\n",
    "    if root is None:\n",
    "        return\n",
    "    print(root.data,end=' ')\n",
    "    preOrder(root.left)\n",
    "    preOrder(root.right)"
   ]
  },
  {
   "cell_type": "markdown",
   "metadata": {},
   "source": [
    "### Postorder Binary Tree"
   ]
  },
  {
   "cell_type": "code",
   "execution_count": 17,
   "metadata": {},
   "outputs": [],
   "source": [
    "def postOrder(root):\n",
    "    if root is None:\n",
    "        return\n",
    "    postOrder(root.left)\n",
    "    postOrder(root.right)\n",
    "    print(root.data)"
   ]
  },
  {
   "cell_type": "markdown",
   "metadata": {},
   "source": [
    "### Node with largest data"
   ]
  },
  {
   "cell_type": "code",
   "execution_count": 19,
   "metadata": {},
   "outputs": [],
   "source": [
    "#Approach-1\n",
    "def largestNode(root):\n",
    "    if root is None:\n",
    "        return -1\n",
    "    leftlargest=largestNode(root.left)\n",
    "    rightlargest=largestNode(root.right)\n",
    "    if root.data > leftlargest and root.data > rightlargest:\n",
    "        return root.data\n",
    "    elif leftlargest > root.data and leftlargest > rightlargest:\n",
    "        return leftlargest\n",
    "    else:\n",
    "        return rightlargest\n",
    "    "
   ]
  },
  {
   "cell_type": "code",
   "execution_count": 20,
   "metadata": {},
   "outputs": [],
   "source": [
    "#Approach-2\n",
    "def largestNode(root):\n",
    "    if root is None:\n",
    "        return -1\n",
    "    leftlargest=largestNode(root.left)\n",
    "    rightlargest=largestNode(root.right)\n",
    "    \n",
    "    return max(root.data,leftlargest,rightlargest)"
   ]
  },
  {
   "cell_type": "markdown",
   "metadata": {},
   "source": [
    "### Count nodes greater than X"
   ]
  },
  {
   "cell_type": "code",
   "execution_count": 21,
   "metadata": {},
   "outputs": [],
   "source": [
    "def countNodesGreaterThanX(root,x):\n",
    "    count=0\n",
    "    if root is None:\n",
    "        return 0\n",
    "    if root.data > x:\n",
    "        count+=1\n",
    "    leftcount=countNodesGreaterThanX(root.left,x)\n",
    "    rightcount=countNodesGreaterThanX(root.right,x)\n",
    "    \n",
    "    return leftcount+rightcount+count"
   ]
  },
  {
   "cell_type": "markdown",
   "metadata": {},
   "source": [
    "### Height of BinaryTree"
   ]
  },
  {
   "cell_type": "code",
   "execution_count": 6,
   "metadata": {},
   "outputs": [],
   "source": [
    "def height(root) :\n",
    "    if root is None:\n",
    "        return 0\n",
    "    leftheight = height(root.left)\n",
    "    rightheight = height(root.right)\n",
    "    return 1+max(leftheight,rightheight)"
   ]
  },
  {
   "cell_type": "markdown",
   "metadata": {},
   "source": [
    "### Number of Leaf Nodes"
   ]
  },
  {
   "cell_type": "code",
   "execution_count": 7,
   "metadata": {},
   "outputs": [],
   "source": [
    "def numleafNode(root):\n",
    "    if root is None:\n",
    "        return 0\n",
    "    if root.left is None and root.right is None:\n",
    "        return -1\n",
    "    leftleafcount = numleafNode(root.left)\n",
    "    rightleafcount = numleafNode(root.right)\n",
    "    return leftleafcount+rightleafcount"
   ]
  },
  {
   "cell_type": "markdown",
   "metadata": {},
   "source": [
    "### Pring nodes a depth k"
   ]
  },
  {
   "cell_type": "code",
   "execution_count": 12,
   "metadata": {},
   "outputs": [],
   "source": [
    "#Approach-1\n",
    "def nodeAtDepthK(root,k):\n",
    "    if root is None:\n",
    "        return\n",
    "    if k == 0:\n",
    "        print(root.data)\n",
    "        return\n",
    "    nodeAtDepthK(root.left,k-1)\n",
    "    nodeAtDepthK(root.right,k-1)   "
   ]
  },
  {
   "cell_type": "code",
   "execution_count": 13,
   "metadata": {},
   "outputs": [],
   "source": [
    "#Approach-2\n",
    "def nodeAtDepthK_2(root,k,d):\n",
    "    if root is None:\n",
    "        return\n",
    "    if d==0:\n",
    "        print(root.data)\n",
    "        return\n",
    "    nodeAtDepthK_2(root.left,k,d+1)\n",
    "    nodeAtDepthK_2(root.right,k,d+1) "
   ]
  },
  {
   "cell_type": "markdown",
   "metadata": {},
   "source": [
    "### Replace Node With Depth"
   ]
  },
  {
   "cell_type": "code",
   "execution_count": 14,
   "metadata": {},
   "outputs": [],
   "source": [
    "def changeToDepthTree(root,d) :\n",
    "    if root is None:\n",
    "        return\n",
    "    root.data = d\n",
    "    leftdata = changeToDepthTree(root.left,d+1)\n",
    "    rightdata = changeToDepthTree(root.right,d+1)\n",
    "        \n",
    "    "
   ]
  },
  {
   "cell_type": "markdown",
   "metadata": {},
   "source": [
    "### Is node present"
   ]
  },
  {
   "cell_type": "code",
   "execution_count": 16,
   "metadata": {},
   "outputs": [],
   "source": [
    "def isNodePresent(root, x) :\n",
    "    if root is None:\n",
    "        return\n",
    "    if root.data == x:\n",
    "        return True\n",
    "    leftdata = isNodePresent(root.left, x)\n",
    "    rightdata = isNodePresent(root.right, x)\n",
    "    if leftdata or rightdata:\n",
    "        return True\n",
    "    else:\n",
    "        return False"
   ]
  },
  {
   "cell_type": "markdown",
   "metadata": {},
   "source": [
    "### Nodes without sibling"
   ]
  },
  {
   "cell_type": "code",
   "execution_count": 17,
   "metadata": {},
   "outputs": [],
   "source": [
    "def printNodesWithoutSibling(root) :\n",
    "    if root is None:\n",
    "        return\n",
    "    if root.left is None and root.right is not None:\n",
    "        print(root.right.data,end=' ')\n",
    "    if root.right is None and root.left is not None:\n",
    "        print(root.left.data,end=' ')\n",
    "    printNodesWithoutSibling(root.left)\n",
    "    printNodesWithoutSibling(root.right)"
   ]
  },
  {
   "cell_type": "markdown",
   "metadata": {},
   "source": [
    "### Remove leaf nodes"
   ]
  },
  {
   "cell_type": "code",
   "execution_count": 1,
   "metadata": {},
   "outputs": [],
   "source": [
    "def removeLeaves(root):\n",
    "    if root is None:\n",
    "        return None\n",
    "    if root.left is None or root.right is None:\n",
    "        return None\n",
    "    root.left = removeLeaves(root.left)\n",
    "    root.right = removeLeaves(root.right)\n",
    "    return root"
   ]
  },
  {
   "cell_type": "markdown",
   "metadata": {},
   "source": [
    "### Mirror Binary Tree"
   ]
  },
  {
   "cell_type": "code",
   "execution_count": 7,
   "metadata": {},
   "outputs": [],
   "source": [
    "def mirrorBinaryTree(root) :\n",
    "    if root is None:\n",
    "        return \n",
    "    if root.left is None or root.right is None:\n",
    "        return root\n",
    "    temp = root.left\n",
    "    root.left = root.right\n",
    "    root.right = temp\n",
    "    mirrorBinaryTree(root.left)\n",
    "    mirrorBinaryTree(root.right)\n",
    "    return root"
   ]
  },
  {
   "cell_type": "markdown",
   "metadata": {},
   "source": [
    "### Is Binary Tree balanced"
   ]
  },
  {
   "cell_type": "code",
   "execution_count": 8,
   "metadata": {},
   "outputs": [],
   "source": [
    "def height(root):\n",
    "    if root is None:\n",
    "        return \n",
    "    return 1+max(height(root.left),height(root.right))"
   ]
  },
  {
   "cell_type": "code",
   "execution_count": 11,
   "metadata": {},
   "outputs": [],
   "source": [
    "#Approach-1\n",
    "def isBalanced(root):\n",
    "    if root is None:\n",
    "        return True\n",
    "    lh = height(root.left)\n",
    "    rh = height(root.right)\n",
    "    if lh - rh >1 or rh - lh >1:\n",
    "        return False\n",
    "    isLeftBalanced = isBalanced(root.left)\n",
    "    isRightBalanced = isBalanced(root.right)\n",
    "    if isLeftBalanced or isRightBalanced:\n",
    "        return True\n",
    "    else:\n",
    "        return False"
   ]
  },
  {
   "cell_type": "code",
   "execution_count": 12,
   "metadata": {},
   "outputs": [],
   "source": [
    "#Approach-2\n",
    "def isBalancedBetter(root):\n",
    "    if root is None:\n",
    "        return 0, True\n",
    "    lh, isleftBalanced = isBalancedBetter(root.left)\n",
    "    rh, isrightBalanced = isBalancedBetter(root.right)\n",
    "    h = 1 + max(lh,rh)\n",
    "    if lh - rh >1 or rh - lh >1:\n",
    "        return h,False\n",
    "    if isLeftBalanced or isRightBalanced:\n",
    "        return h, True\n",
    "    else:\n",
    "        return h, False\n",
    "    \n",
    "    "
   ]
  },
  {
   "cell_type": "markdown",
   "metadata": {},
   "source": [
    "### Diameter of the Binary Tree"
   ]
  },
  {
   "cell_type": "code",
   "execution_count": 13,
   "metadata": {},
   "outputs": [],
   "source": [
    "### Approach-1"
   ]
  },
  {
   "cell_type": "code",
   "execution_count": 14,
   "metadata": {},
   "outputs": [],
   "source": [
    "def height(root):\n",
    "    if root is None:\n",
    "        return \n",
    "    return 1+max(height(root.left),height(root.right))\n",
    "\n",
    "def DiameterofTree(root):\n",
    "    if root is None:\n",
    "        return 0\n",
    "    lh = height(root.left)\n",
    "    rh = height(root.right)\n",
    "    leftDiameter = DiameterofTree(root.left)\n",
    "    rightDiameter = DiameterofTree(root.right)\n",
    "    return max(lh+rh,leftDiameter,rightDiameter)"
   ]
  },
  {
   "cell_type": "code",
   "execution_count": 15,
   "metadata": {},
   "outputs": [],
   "source": [
    "### Approach-2"
   ]
  },
  {
   "cell_type": "code",
   "execution_count": 16,
   "metadata": {},
   "outputs": [],
   "source": [
    "def diameterOfBinaryTree(root):\n",
    "    diameter =calculatediameterOfBinaryTree(root)\n",
    "    return diameter[1]\n",
    "\n",
    "def calculatediameterOfBinaryTree(root) :\n",
    "    if root is None:\n",
    "        return 0,0\n",
    "    lh,ld = calculatediameterOfBinaryTree(root.left)\n",
    "    rh,rd = calculatediameterOfBinaryTree(root.right)\n",
    "    h = 1 + max(lh,rh)\n",
    "    return h,max(lh+rh+1,ld,rd)\n"
   ]
  },
  {
   "cell_type": "code",
   "execution_count": 17,
   "metadata": {},
   "outputs": [
    {
     "data": {
      "text/plain": [
       "5"
      ]
     },
     "execution_count": 17,
     "metadata": {},
     "output_type": "execute_result"
    }
   ],
   "source": [
    "max(3,4,5)"
   ]
  },
  {
   "cell_type": "markdown",
   "metadata": {},
   "source": [
    "### Take input level-wise for a BinaryTree"
   ]
  },
  {
   "cell_type": "code",
   "execution_count": 9,
   "metadata": {},
   "outputs": [],
   "source": [
    "import queue\n",
    "\n",
    "def takeLevelwiseInput():\n",
    "    q = queue.Queue()\n",
    "    print(\"Enter the root data\")\n",
    "    rootData = int(input())\n",
    "    if rootData == -1:\n",
    "        return None\n",
    "    root = Node(rootData)\n",
    "    q.put(root)\n",
    "    while not q.empty():\n",
    "        currNode = q.get()      \n",
    "        print(\"Enter left child of \",currNode.data)\n",
    "        leftChildData = int(input())\n",
    "        if leftChildData != -1:\n",
    "            leftChild = Node(leftChildData)\n",
    "            currNode.left = leftChild\n",
    "            q.put(leftChild)\n",
    "        print(\"Enter right child of \",currNode.data)\n",
    "        rightChildData = int(input())\n",
    "        if rightChildData != -1:\n",
    "            rightChild = Node(rightChildData)\n",
    "            currNode.right = rightChild\n",
    "            q.put(rightChild)\n",
    "    return root\n",
    "        "
   ]
  },
  {
   "cell_type": "markdown",
   "metadata": {},
   "source": [
    "### Print levelwise BinaryTree"
   ]
  },
  {
   "cell_type": "code",
   "execution_count": 10,
   "metadata": {},
   "outputs": [],
   "source": [
    "import queue\n",
    "\n",
    "def printLevelWise(root):\n",
    "    q = queue.Queue()\n",
    "    if root is None:\n",
    "        return\n",
    "    q.put(root)\n",
    "    while not q.empty():\n",
    "        currNode = q.get()\n",
    "        print(currNode.data, end=':')\n",
    "        if currNode.left is not None:\n",
    "            print('L:'+str(currNode.left.data),end=',')\n",
    "            q.put(currNode.left)\n",
    "        else:\n",
    "            print('L:'+'-1',end=',')\n",
    "        if currNode.right is not None:\n",
    "            print('R:'+str(currNode.right.data))\n",
    "            q.put(currNode.right)\n",
    "        else:\n",
    "            print('R:'+'-1')\n",
    "            "
   ]
  },
  {
   "cell_type": "code",
   "execution_count": null,
   "metadata": {},
   "outputs": [],
   "source": [
    "import queue\n",
    "\n",
    "def printLevelWise(root):\n",
    "    q = queue.Queue()\n",
    "    if root is None:\n",
    "        return\n",
    "    q.put(root)\n",
    "    while not q.empty():\n",
    "        currNode = q.get()\n",
    "        print(currNode.data, end=':')\n",
    "        if currNode.left is not None:\n",
    "            print('L:'+str(currNode.left.data),end=',')\n",
    "            q.put(currNode.left)\n",
    "        else:\n",
    "            print('L:'+'-1',end=',')\n",
    "        if currNode.right is not None:\n",
    "            print('R:'+str(currNode.right.data))\n",
    "            q.put(currNode.right)\n",
    "        else:\n",
    "            print('R:'+'-1')\n",
    "            "
   ]
  },
  {
   "cell_type": "markdown",
   "metadata": {},
   "source": [
    "### Build BinaryTree using PreOrder and InOrder"
   ]
  },
  {
   "cell_type": "markdown",
   "metadata": {},
   "source": [
    "- Find the root\n",
    "- Find the left and right inorder\n",
    "- Find the left and right preorder\n",
    "- Use recursion to build left and right subtree\n",
    "- Connect root with bith left and right subtree"
   ]
  },
  {
   "cell_type": "code",
   "execution_count": 8,
   "metadata": {},
   "outputs": [],
   "source": [
    "\n",
    "### NOT CORRECT CODE###\n",
    "\n",
    "def buildTree(preOrder, inOrder, n) :\n",
    "    if inOrder:\n",
    "        rootData = preOrder.pop()\n",
    "        root = BinaryTreeNode(rootData)\n",
    "        rootIndex = inOrder.index(rootData)\n",
    "        # leftinOrder = inOrder[:rootIndex]\n",
    "        # rightinOrder = inOrder[rootIndex+1:]\n",
    "        # leftpreOrder = preOrder[1:len(leftinOrder)-1]\n",
    "        # rightpreOrder = preOrder[len(leftinOrder):]\n",
    "        root.left = buildTree(preOrder,inOrder[:rootIndex],len(inOrder[:rootIndex]))\n",
    "        root.right = buildTree(preOrder,inOrder[rootIndex+1:],len(inOrder[rootIndex+1:]))\n",
    "        # root.left = leftTree\n",
    "        # root.right = rightTree\n",
    "        return root\n",
    "    "
   ]
  },
  {
   "cell_type": "code",
   "execution_count": null,
   "metadata": {},
   "outputs": [],
   "source": []
  },
  {
   "cell_type": "code",
   "execution_count": null,
   "metadata": {},
   "outputs": [],
   "source": []
  },
  {
   "cell_type": "markdown",
   "metadata": {},
   "source": [
    "### Build BinaryTree using PostOrder and InOrder"
   ]
  },
  {
   "cell_type": "code",
   "execution_count": null,
   "metadata": {},
   "outputs": [],
   "source": []
  },
  {
   "cell_type": "code",
   "execution_count": null,
   "metadata": {},
   "outputs": [],
   "source": []
  },
  {
   "cell_type": "markdown",
   "metadata": {},
   "source": [
    "### Minimum and Maximum in the Binary Tree"
   ]
  },
  {
   "cell_type": "code",
   "execution_count": 7,
   "metadata": {},
   "outputs": [],
   "source": [
    "def getMinAndMax(root) :\n",
    "    \n",
    "    if root is None:\n",
    "        return 1000000,-1\n",
    "    leftmin,leftmax = getMinAndMax(root.left)\n",
    "    rightmin,rightmax = getMinAndMax(root.right)\n",
    "    big = max(root.data,leftmax,rightmax)\n",
    "    small = min(root.data,leftmin,rightmin)\n",
    "    return small,big"
   ]
  },
  {
   "cell_type": "markdown",
   "metadata": {},
   "source": [
    "### Level order traversal"
   ]
  },
  {
   "cell_type": "code",
   "execution_count": 3,
   "metadata": {},
   "outputs": [],
   "source": [
    "def printLevelWise(root):\n",
    "    q = queue.Queue()\n",
    "    if root is None:\n",
    "        return\n",
    "    q.put(root)\n",
    "    q.put(None)\n",
    "    while not q.empty():\n",
    "        currData = q.get()\n",
    "        if currData is not None:\n",
    "            print(currData.data,end=\" \")           \n",
    "            if currData.left is not None:\n",
    "                q.put(currData.left)\n",
    "            if currData.right is not None:\n",
    "                q.put(currData.right)\n",
    "        else:\n",
    "            print(\"\\n\")\n",
    "            if q.qsize() == 0:\n",
    "                return\n",
    "            q.put(None) "
   ]
  },
  {
   "cell_type": "markdown",
   "metadata": {},
   "source": [
    "### Path Sum Root to Leaf"
   ]
  },
  {
   "cell_type": "code",
   "execution_count": null,
   "metadata": {},
   "outputs": [],
   "source": [
    "def printSumPath(root,k,path):\n",
    "    if root is None:\n",
    "        return\n",
    "    path+=str(root.data)+' '\n",
    "    sumleft = k-root.data\n",
    "    if sumleft == 0 and root.left is None and root.right is None:\n",
    "        print(path,end=' ')\n",
    "        print()\n",
    "        \n",
    "    if sumleft != 0 and root.left is not None:\n",
    "        printSumPath(root.left,sumleft,path)\n",
    "    if sumleft != 0 and root.right is not None:\n",
    "        printSumPath(root.right,sumleft,path)    \n",
    "    return path    \n",
    "\n",
    "def rootToLeafPathsSumToK(root, k):\n",
    "    if root is None:\n",
    "        return\n",
    "    path = ''\n",
    "    printSumPath(root,k,path)"
   ]
  },
  {
   "cell_type": "markdown",
   "metadata": {},
   "source": [
    "### Print nodes at distance k from node"
   ]
  },
  {
   "cell_type": "code",
   "execution_count": null,
   "metadata": {},
   "outputs": [],
   "source": [
    "def printkDistanceNodeDown(root, k):\n",
    "    if root is None or k < 0:\n",
    "        return None\n",
    "    if k == 0:\n",
    "        print(root.data)\n",
    "        return\n",
    "    printkDistanceNodeDown(root.left, k - 1)\n",
    "    printkDistanceNodeDown(root.right, k - 1)\n",
    "def nodesAtDistanceK(root, target, k):\n",
    "    if root is None:\n",
    "        return -1\n",
    "    if root.data == target:\n",
    "        printkDistanceNodeDown(root, k)\n",
    "        return 0\n",
    "    dl = nodesAtDistanceK(root.left, target, k)\n",
    "    if dl != -1:\n",
    "        if dl + 1 == k:\n",
    "            print(root.data)\n",
    "        else:\n",
    "            printkDistanceNodeDown(root.right, k-(dl+1)-1)\n",
    "        return 1 + dl\n",
    "    dr = nodesAtDistanceK(root.right, target, k)\n",
    "    if dr != -1:\n",
    "        if dr + 1 == k:\n",
    "            print(root.data)\n",
    "        else:\n",
    "            printkDistanceNodeDown(root.left, k-(dr+1)-1)\n",
    "        return 1 + dr\n",
    "    return -1"
   ]
  },
  {
   "cell_type": "code",
   "execution_count": null,
   "metadata": {},
   "outputs": [],
   "source": []
  }
 ],
 "metadata": {
  "kernelspec": {
   "display_name": "Python 3",
   "language": "python",
   "name": "python3"
  },
  "language_info": {
   "codemirror_mode": {
    "name": "ipython",
    "version": 3
   },
   "file_extension": ".py",
   "mimetype": "text/x-python",
   "name": "python",
   "nbconvert_exporter": "python",
   "pygments_lexer": "ipython3",
   "version": "3.8.3"
  }
 },
 "nbformat": 4,
 "nbformat_minor": 4
}
