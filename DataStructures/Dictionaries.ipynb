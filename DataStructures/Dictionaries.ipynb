{
 "cells": [
  {
   "cell_type": "code",
   "execution_count": 6,
   "metadata": {},
   "outputs": [],
   "source": [
    "a = {1:2,3:4,5:6,7:8}"
   ]
  },
  {
   "cell_type": "code",
   "execution_count": 2,
   "metadata": {},
   "outputs": [
    {
     "data": {
      "text/plain": [
       "dict_keys([1, 3, 5, 7])"
      ]
     },
     "execution_count": 2,
     "metadata": {},
     "output_type": "execute_result"
    }
   ],
   "source": [
    "a.keys()"
   ]
  },
  {
   "cell_type": "code",
   "execution_count": 10,
   "metadata": {},
   "outputs": [
    {
     "data": {
      "text/plain": [
       "dict_values"
      ]
     },
     "execution_count": 10,
     "metadata": {},
     "output_type": "execute_result"
    }
   ],
   "source": [
    "type(a.values())"
   ]
  },
  {
   "cell_type": "code",
   "execution_count": 15,
   "metadata": {},
   "outputs": [
    {
     "data": {
      "text/plain": [
       "8"
      ]
     },
     "execution_count": 15,
     "metadata": {},
     "output_type": "execute_result"
    }
   ],
   "source": [
    "max(a.values())"
   ]
  },
  {
   "cell_type": "code",
   "execution_count": 7,
   "metadata": {},
   "outputs": [
    {
     "name": "stdout",
     "output_type": "stream",
     "text": [
      "1\n",
      "3\n",
      "5\n",
      "7\n"
     ]
    }
   ],
   "source": [
    "for i in a:\n",
    "    print(i)"
   ]
  },
  {
   "cell_type": "markdown",
   "metadata": {},
   "source": [
    "### Important - Type of Dictionary elements"
   ]
  },
  {
   "cell_type": "code",
   "execution_count": 9,
   "metadata": {},
   "outputs": [
    {
     "data": {
      "text/plain": [
       "dict"
      ]
     },
     "execution_count": 9,
     "metadata": {},
     "output_type": "execute_result"
    }
   ],
   "source": [
    "type(a)"
   ]
  },
  {
   "cell_type": "code",
   "execution_count": 14,
   "metadata": {},
   "outputs": [
    {
     "data": {
      "text/plain": [
       "dict_values"
      ]
     },
     "execution_count": 14,
     "metadata": {},
     "output_type": "execute_result"
    }
   ],
   "source": [
    "type(a.values())"
   ]
  },
  {
   "cell_type": "code",
   "execution_count": 15,
   "metadata": {},
   "outputs": [
    {
     "data": {
      "text/plain": [
       "dict_keys"
      ]
     },
     "execution_count": 15,
     "metadata": {},
     "output_type": "execute_result"
    }
   ],
   "source": [
    "type(a.keys())"
   ]
  },
  {
   "cell_type": "markdown",
   "metadata": {},
   "source": [
    "### Print all the words with frequenct k"
   ]
  },
  {
   "cell_type": "code",
   "execution_count": 1,
   "metadata": {},
   "outputs": [],
   "source": [
    "def printKFrequencyWords(s,k):\n",
    "    words = s.split()\n",
    "    d = {}\n",
    "    for w in words:\n",
    "        d[w] = d.get(w,0)+1\n",
    "    for w in d:\n",
    "        if d[w] == k:\n",
    "            print(w)"
   ]
  },
  {
   "cell_type": "code",
   "execution_count": 2,
   "metadata": {},
   "outputs": [],
   "source": [
    "s = \"this word string is having many many word of words\"\n",
    "k=2"
   ]
  },
  {
   "cell_type": "code",
   "execution_count": 3,
   "metadata": {},
   "outputs": [
    {
     "name": "stdout",
     "output_type": "stream",
     "text": [
      "word\n",
      "many\n"
     ]
    }
   ],
   "source": [
    "printKFrequencyWords(s,k)"
   ]
  },
  {
   "cell_type": "markdown",
   "metadata": {},
   "source": [
    "### Maximum Frequency\n"
   ]
  },
  {
   "cell_type": "code",
   "execution_count": 16,
   "metadata": {},
   "outputs": [],
   "source": [
    "## Approach-1\n",
    "def maxfreq(arr):\n",
    "    d = {}\n",
    "    for w in arr:\n",
    "        d[w] = d.get(w,0)+1\n",
    "    max_value = max(d.values())\n",
    "    for k in arr: \n",
    "# We can't use d and d.keys() here in place of arr as those will be of type dictionary and dictionary keys & \n",
    "# not array type\n",
    "        if d[k] == max_value:\n",
    "            ele = k\n",
    "            return k"
   ]
  },
  {
   "cell_type": "code",
   "execution_count": 17,
   "metadata": {},
   "outputs": [],
   "source": [
    "## Approach-2\n",
    "def maxFreq(arr):\n",
    "    arr\n",
    "    d = {}\n",
    "    for w in arr:\n",
    "        d[w] = d.get(w,0)+1\n",
    "    max = 0    \n",
    "    for w in arr:\n",
    "        if d[w] > max:\n",
    "            max = d[w]\n",
    "            ele = w\n",
    "    return ele "
   ]
  },
  {
   "cell_type": "markdown",
   "metadata": {},
   "source": [
    "### Pair Sum to 0"
   ]
  },
  {
   "cell_type": "markdown",
   "metadata": {},
   "source": [
    "# Check code for this problem"
   ]
  },
  {
   "cell_type": "code",
   "execution_count": null,
   "metadata": {},
   "outputs": [],
   "source": []
  },
  {
   "cell_type": "code",
   "execution_count": 20,
   "metadata": {},
   "outputs": [],
   "source": [
    "## Approach-1\n",
    "def pairSum0(arr,n):\n",
    "    d = {}\n",
    "    count = 0\n",
    "    for w in arr:\n",
    "        d[w] = d.get(w,0)+1\n",
    "    \n",
    "    for key in d.keys():\n",
    "        if d.get(0-key) is not None:\n",
    "            if d.get(0-key) == d.get(key):\n",
    "                count += d.get(key)+d.get(key)\n",
    "            else:\n",
    "                count += d.get(key)*d.get(0-key)\n",
    "                d[key] = 0\n",
    "                d[0-key] = 0               \n",
    "    return count"
   ]
  },
  {
   "cell_type": "code",
   "execution_count": 21,
   "metadata": {},
   "outputs": [],
   "source": [
    "## Approach-2\n",
    "def pairSum0(arr,n):\n",
    "    d = {}\n",
    "    count = 0\n",
    "    for w in arr:\n",
    "        if w != 0:\n",
    "            if d.get(-w) is None:\n",
    "                d[w] = d.get(w,0)+1\n",
    "            else:         \n",
    "                d[w] = d.get(w,0)+1\n",
    "                count += d.get(w)*d.get(-w)-1\n",
    "        else:\n",
    "            count += d.get(w)+d.get(-w)\n",
    "    return count"
   ]
  },
  {
   "cell_type": "code",
   "execution_count": 24,
   "metadata": {},
   "outputs": [],
   "source": [
    "from sys import stdin\n",
    "from math import factorial\n",
    "\n",
    "## Approach-1\n",
    "# def pairSum0(arr,n):\n",
    "#     d = {}\n",
    "#     count = 0\n",
    "#     for w in arr:\n",
    "#         d[w] = d.get(w,0)+1\n",
    "    \n",
    "#     for key in d:\n",
    "#         if d.get(0-key) is not None:\n",
    "#             if key == 0:\n",
    "#                 count += d.get(key)+d.get(key)\n",
    "#             else:\n",
    "#                 count += d.get(key)*d.get(0-key)\n",
    "#                 d[key]=0\n",
    "#                 d[0-key]=0               \n",
    "#     return count\n",
    "\n",
    "def nc2(n):\n",
    "    ans = 0\n",
    "    if n!=1:\n",
    "        ans = factorial(n)/(factorial(2)*factorial(n-2))\n",
    "    return int(ans)\n",
    "\n",
    "## Approach-2\n",
    "def pairSum0(arr,n):\n",
    "    d = {}\n",
    "    \n",
    "    for w in arr:\n",
    "        d[w] = d.get(w,0) + 1\n",
    "    \n",
    "    count = 0\n",
    "    for key in d:\n",
    "        # if w != 0:         \n",
    "            if key<0 and -key in d:\n",
    "                # d[w] = d.get(w,0)+1\n",
    "                count += (d[key]*d[-key])\n",
    "            if key == 0:\n",
    "                # d[w] = d.get(w,0)+1\n",
    "                count += nc2(d[key])\n",
    "        # else:\n",
    "            # d[w] = d.get(w,0)+1\n",
    "    return count\n",
    "\n",
    "# def takeInput():\n",
    "#     #To take fast I/O\n",
    "#     n=int(stdin.readline().strip())\n",
    "#     if n==0:\n",
    "#         return list(),0\n",
    "#     arr=list(map(int,stdin.readline().strip().split( )))\n",
    "#     return arr,n\n",
    "\n",
    "# arr,n=takeInput()\n",
    "# print(pairSum0(arr,n))"
   ]
  },
  {
   "cell_type": "markdown",
   "metadata": {},
   "source": [
    "### Implementing Hash tables / hash maps"
   ]
  },
  {
   "cell_type": "markdown",
   "metadata": {},
   "source": [
    "- Hashing consistes of two thing:\n",
    "    - Hash function\n",
    "    - Compression code"
   ]
  },
  {
   "cell_type": "markdown",
   "metadata": {},
   "source": [
    "- Collision handling can be performed in a hash maps using multiple ways:\n",
    "    - Open addressing also known as Seperate chaining\n",
    "    - Closed addressing\n",
    "    \n",
    "- Open addressing or Seperate chaing is implemented using linked list.\n",
    "- Closed addressing can be implemented through 3 techniques:\n",
    "    1. Linear probing\n",
    "    2. Quadratic probing\n",
    "    3. Double hashing\n",
    "    \n",
    "    Eqn for implementing closed addressing:\n",
    "    hi(a) = hf(a) + f(i) such that f(i) for i=0 is 0 i.e. f(0) = 0."
   ]
  },
  {
   "cell_type": "markdown",
   "metadata": {},
   "source": [
    " ### Implementation of hashmaps using Open adderessing/Seperate chaining method"
   ]
  },
  {
   "cell_type": "code",
   "execution_count": 4,
   "metadata": {},
   "outputs": [],
   "source": [
    "class MapNode:\n",
    "    def __init__(self,key,value):\n",
    "        self.key = key\n",
    "        self.value = value\n",
    "        self.next = None\n",
    "        \n",
    "class Map:\n",
    "    def __init__(self):\n",
    "        self.bucketSize = 5\n",
    "        self.buckets = [None for i in range(self.bucketSize)]\n",
    "        self.count = 0\n",
    "        \n",
    "    def size(self):\n",
    "        return self.count\n",
    "    \n",
    "    def getBucketIndex(self,hc):\n",
    "        return (abs(hc)%(self.bucketSize))\n",
    "    \n",
    "    def insert(self,key,value): \n",
    "        hc = hash(key)\n",
    "        index = self.getBucketIndex(hc)\n",
    "        head = self.buckets[index]\n",
    "        while head is not None:\n",
    "            if head.key == key:\n",
    "                head.value = value\n",
    "                return\n",
    "            head = head.next\n",
    "        head = self.buckets[index]\n",
    "        newNode = MapNode(key,value)\n",
    "        newNode.next = head\n",
    "        self.buckets[index] = newNode\n",
    "        self.count+=1\n",
    "## For implementing rehashing\n",
    "        loadFactor = self.count/self.bucketSize\n",
    "        if loadFactor >=0.7:\n",
    "            self.rehash()\n",
    "            \n",
    "    def rehash(self):\n",
    "        temp = self.buckets\n",
    "        self.buckets = [None for i in range(2*self.bucketSize)]\n",
    "        self.bucketSize = 2*self.bucketSize\n",
    "        self.count = 0\n",
    "        for head in temp:\n",
    "            while head is not None:\n",
    "                self.insert(head.key,head.value)\n",
    "                head = head.next\n",
    "        \n",
    "    def loadFactor(self):\n",
    "        return self.count/self.bucketSize\n",
    "        \n",
    "    def search(self,key):\n",
    "        hc = hash(key)\n",
    "        index = self.getBucketIndex(hc)\n",
    "        head = self.buckets[index]\n",
    "        while head is not None:\n",
    "            if head.key == key:               \n",
    "                return head.value\n",
    "            head = head.next\n",
    "        return None\n",
    "        \n",
    "    \n",
    "    def delete(self,key):\n",
    "        hc = hash(key)\n",
    "        index = self.getBucketIndex(hc)\n",
    "        head = self.buckets[index]\n",
    "        prev = None\n",
    "        while head is not None:\n",
    "            if head.key == key:\n",
    "                if prev is None:\n",
    "                    self.buckets[index] = head.next\n",
    "                else:\n",
    "                    prev.next = head.next\n",
    "                self.count-=1\n",
    "                return head.value         \n",
    "            prev = head\n",
    "            head = head.next"
   ]
  },
  {
   "cell_type": "markdown",
   "metadata": {},
   "source": [
    "### Re-Hashing"
   ]
  },
  {
   "cell_type": "markdown",
   "metadata": {},
   "source": [
    "- Whenever the load factor (n/b) becomes greater than or equal to 0.7, we need to perform re-hashing\n",
    " i.e. n/b >= 0.7 Given: n = no of entries in Hashmap and b= size of bucket array "
   ]
  },
  {
   "cell_type": "markdown",
   "metadata": {},
   "source": [
    "### NOTE: Rehashing code is added in the above code."
   ]
  },
  {
   "cell_type": "code",
   "execution_count": 9,
   "metadata": {},
   "outputs": [
    {
     "name": "stdout",
     "output_type": "stream",
     "text": [
      "0.2\n",
      "0.4\n",
      "0.6\n",
      "0.4\n",
      "0.5\n",
      "0.6\n",
      "0.35\n",
      "0.4\n",
      "0.45\n",
      "0.5\n",
      "\n",
      "abc0: 1\n",
      "abc1: 2\n",
      "abc2: 3\n",
      "abc3: 4\n",
      "abc4: 5\n",
      "abc5: 6\n",
      "abc6: 7\n",
      "abc7: 8\n",
      "abc8: 9\n",
      "abc9: 10\n"
     ]
    }
   ],
   "source": [
    "m = Map()\n",
    "for i in range(10):\n",
    "    m.insert('abc'+str(i),i+1)\n",
    "    print(m.loadFactor())\n",
    "print()\n",
    "\n",
    "for i in range(10):\n",
    "    print('abc'+str(i)+':',m.search('abc'+str(i)))"
   ]
  },
  {
   "cell_type": "markdown",
   "metadata": {},
   "source": [
    "- Time Complexity for retrieving all keyset from Hashmap is O(n) as it will iterate through all the values"
   ]
  },
  {
   "cell_type": "markdown",
   "metadata": {},
   "source": [
    "### Extract Unique characters"
   ]
  },
  {
   "cell_type": "code",
   "execution_count": 32,
   "metadata": {},
   "outputs": [
    {
     "name": "stdout",
     "output_type": "stream",
     "text": [
      "aabbccbbddee\n",
      "abcde\n"
     ]
    }
   ],
   "source": [
    "def uniqueChar(s): \n",
    "    d = {}\n",
    "    res = ''\n",
    "    for i in s:\n",
    "        d[i] = d.get(i,0)+1\n",
    "    for l in range(0,len(s)):\n",
    "        if s[l] in d.keys():\n",
    "            res+=s[l]\n",
    "            d.pop(s[l])\n",
    "    return res\n",
    "\n",
    "# Main \n",
    "s=input() \n",
    "print(uniqueChar(s))"
   ]
  },
  {
   "cell_type": "markdown",
   "metadata": {},
   "source": [
    "### Longest Consecutive Sequence"
   ]
  },
  {
   "cell_type": "code",
   "execution_count": 35,
   "metadata": {},
   "outputs": [],
   "source": [
    "def longestConsecutiveSubsequence(arr,n):\n",
    "    d = {}\n",
    "    ans=[]\n",
    "    maxLength = 0\n",
    "    startVal = 0\n",
    "    tempStart = 0\n",
    "    tempMaxLength = 0\n",
    "    \n",
    "    for w in arr:\n",
    "        d[w] = d.get(w,True)\n",
    "    \n",
    "    for w in arr:\n",
    "        if d.get(w-1) in d:\n",
    "            d[w] = False\n",
    "#     return d\n",
    "    \n",
    "    for w in arr:\n",
    "        if d.get(w) is True:\n",
    "            tempStart = w\n",
    "            tempMaxLength = 1\n",
    "            while d.get(tempStart+tempMaxLength) is not None:\n",
    "                tempMaxLength +=1\n",
    "            if tempMaxLength > maxLength:\n",
    "                maxLength = tempMaxLength\n",
    "                startVal = tempStart\n",
    "                \n",
    "    return startVal,startVal+maxLength-1"
   ]
  },
  {
   "cell_type": "code",
   "execution_count": 36,
   "metadata": {},
   "outputs": [],
   "source": [
    "# arr = [15,24,23,12,19,11,16]\n",
    "arr = [3,7,2,1,9,8,41]\n",
    "ans = longestConsecutiveSubsequence(arr,7)"
   ]
  },
  {
   "cell_type": "code",
   "execution_count": 37,
   "metadata": {},
   "outputs": [
    {
     "data": {
      "text/plain": [
       "(7, 9)"
      ]
     },
     "execution_count": 37,
     "metadata": {},
     "output_type": "execute_result"
    }
   ],
   "source": [
    "ans"
   ]
  },
  {
   "cell_type": "markdown",
   "metadata": {},
   "source": [
    "### Pairs with difference K"
   ]
  },
  {
   "cell_type": "code",
   "execution_count": 3,
   "metadata": {},
   "outputs": [],
   "source": [
    "### Approach-1\n",
    "### Time Complexity: O(n) & Space Complexity: O(n)\n",
    "\n",
    "from math import factorial\n",
    "\n",
    "def nc2(n):\n",
    "    ans = 0\n",
    "    if n!=1:\n",
    "        ans = factorial(n)/(factorial(2)*factorial(n-2))\n",
    "    return int(ans)\n",
    "\n",
    "def printPairDiffK(l, k):\n",
    "    d = {}\n",
    "    count = 0\n",
    "    for w in l:\n",
    "        d[w] = d.get(w,0)+1\n",
    "    for w in d:\n",
    "        if w-k in d.keys() and w-k != w:\n",
    "            count += d[w]*d[w-k]\n",
    "        if w-k in d.keys() and w-k == w:\n",
    "            count += nc2(d[w])   \n",
    "    return count           "
   ]
  },
  {
   "cell_type": "code",
   "execution_count": 4,
   "metadata": {},
   "outputs": [],
   "source": [
    "### Approach-2\n",
    "### Time Complexity: O(n) & Space Complexity: O(n)\n",
    "def printPairDiffK(l, k):\n",
    "    pairCount = 0\n",
    "    m = {}\n",
    "    for num in l:\n",
    "        if num+k in m:\n",
    "            pairCount += m[num+k]\n",
    "        if k!=0 and num-k in m:\n",
    "            pairCount += m[num-k]\n",
    "        \n",
    "        #Update map\n",
    "        if num in m:\n",
    "            m[num]+=1\n",
    "        else:\n",
    "            m[num] = 1\n",
    "    return pairCount"
   ]
  },
  {
   "cell_type": "markdown",
   "metadata": {},
   "source": [
    "### Longest subset zero sum"
   ]
  },
  {
   "cell_type": "code",
   "execution_count": 5,
   "metadata": {},
   "outputs": [],
   "source": [
    "def subsetSum(l):\n",
    "    d = {}\n",
    "    maxi = 0\n",
    "    sum = 0\n",
    "    for i in range(len(l)):\n",
    "        sum+= l[i]\n",
    "        if sum ==0:\n",
    "            maxi = i+1\n",
    "        else:\n",
    "            if d.get(sum) is not None:\n",
    "                maxi = max(maxi, i - d.get(sum))\n",
    "            else:\n",
    "                d[sum] = i\n",
    "    return maxi\n",
    "        \n",
    "\n",
    "\n",
    "# Main\n",
    "# n=int(input())\n",
    "# l=list(int(i) for i in input().strip().split(' '))\n",
    "# print(subsetSum(l))"
   ]
  },
  {
   "cell_type": "code",
   "execution_count": null,
   "metadata": {},
   "outputs": [],
   "source": []
  },
  {
   "cell_type": "code",
   "execution_count": null,
   "metadata": {},
   "outputs": [],
   "source": []
  }
 ],
 "metadata": {
  "kernelspec": {
   "display_name": "Python 3",
   "language": "python",
   "name": "python3"
  },
  "language_info": {
   "codemirror_mode": {
    "name": "ipython",
    "version": 3
   },
   "file_extension": ".py",
   "mimetype": "text/x-python",
   "name": "python",
   "nbconvert_exporter": "python",
   "pygments_lexer": "ipython3",
   "version": "3.8.3"
  }
 },
 "nbformat": 4,
 "nbformat_minor": 4
}
