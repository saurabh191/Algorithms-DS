{
 "cells": [
  {
   "cell_type": "markdown",
   "metadata": {},
   "source": [
    "### Reverse LL (Recurssive)"
   ]
  },
  {
   "cell_type": "code",
   "execution_count": 3,
   "metadata": {},
   "outputs": [],
   "source": [
    "\n",
    "def reverseLinkedListRec(head) :\n",
    "    if head is None or head.next is None:\n",
    "        return head,head\n",
    "    smallhead, smalltail = reverseLinkedListRec(head.next)\n",
    "    smalltail.next = head\n",
    "    head.next = None\n",
    "    return smallhead,head\n",
    "    # if head is None or head.next is None:\n",
    "    #     return head  \n",
    "    # smallHead = reverseLinkedListRec(head.next)\n",
    "    # curr = smallHead\n",
    "    # while curr.next is not None:\n",
    "    #     curr = curr.next\n",
    "    # curr.next = head\n",
    "    # head.next = None\n",
    "    # return smallHead\n",
    "        "
   ]
  },
  {
   "cell_type": "markdown",
   "metadata": {},
   "source": [
    "### Reverse LL (Iterative)"
   ]
  },
  {
   "cell_type": "code",
   "execution_count": 4,
   "metadata": {},
   "outputs": [],
   "source": [
    "def reverse(head):\n",
    "    curr = head\n",
    "    prev = None\n",
    "    while curr is not None:\n",
    "        next = curr.next\n",
    "        curr.next = prev\n",
    "        prev = curr\n",
    "        curr = next\n",
    "    head = prev\n",
    "    return head\n"
   ]
  },
  {
   "cell_type": "markdown",
   "metadata": {},
   "source": [
    "### Mid-Point of a LL"
   ]
  },
  {
   "cell_type": "code",
   "execution_count": 5,
   "metadata": {},
   "outputs": [],
   "source": [
    "def midPoint(head) :\n",
    "    if head is None:\n",
    "        return head\n",
    "    slow = head\n",
    "    fast = head\n",
    "    while fast.next is not None and fast.next.next is not None:\n",
    "        slow = slow.next\n",
    "        fast = fast.next.next\n",
    "    return slow"
   ]
  },
  {
   "cell_type": "markdown",
   "metadata": {},
   "source": [
    "### Merge two sorted LL"
   ]
  },
  {
   "cell_type": "code",
   "execution_count": 8,
   "metadata": {},
   "outputs": [],
   "source": [
    "def mergeTwoSortedLinkedLists(h1, h2):\n",
    "    if h1 is None: \n",
    "        return h2\n",
    "    if h2 is None:\n",
    "        return h1\n",
    "\n",
    "    if h1.data > h2.data:\n",
    "        finalhead = h2\n",
    "        finaltail = h2\n",
    "        h2 = h2.next\n",
    "    else:\n",
    "        finalhead = h1\n",
    "        finaltail = h1\n",
    "        h1 = h1.next\n",
    "        \n",
    "    while h1 is not None and h2 is not None:\n",
    "        if h1.data < h2.data:\n",
    "            finaltail.next = h1\n",
    "            finaltail = finaltail.next\n",
    "            h1 = h1.next\n",
    "        else:\n",
    "            finaltail.next = h2\n",
    "            finaltail = finaltail.next\n",
    "            h2 = h2.next\n",
    "    if h1 is None:\n",
    "        finaltail.next = h2\n",
    "    if h2 is None:\n",
    "        finaltail.next = h1\n",
    "        \n",
    "    return finalhead"
   ]
  },
  {
   "cell_type": "markdown",
   "metadata": {},
   "source": [
    "### Merge Sort on LL"
   ]
  },
  {
   "cell_type": "code",
   "execution_count": 9,
   "metadata": {},
   "outputs": [],
   "source": [
    "def midPoint(head) :\n",
    "    if head is None:\n",
    "        return head\n",
    "    slow = head\n",
    "    fast = head\n",
    "    while fast.next is not None and fast.next.next is not None:\n",
    "        slow = slow.next\n",
    "        fast = fast.next.next\n",
    "    return slow\n",
    "\n",
    "def mergeLL(h1, h2):\n",
    "    if h1 is None: \n",
    "        return h2\n",
    "    if h2 is None:\n",
    "        return h1\n",
    "\n",
    "    if h1.data > h2.data:\n",
    "        finalhead = h2\n",
    "        finaltail = h2\n",
    "        h2 = h2.next\n",
    "    else:\n",
    "        finalhead = h1\n",
    "        finaltail = h1\n",
    "        h1 = h1.next\n",
    "        \n",
    "    while h1 is not None and h2 is not None:\n",
    "        if h1.data < h2.data:\n",
    "            finaltail.next = h1\n",
    "            finaltail = finaltail.next\n",
    "            h1 = h1.next\n",
    "        else:\n",
    "            finaltail.next = h2\n",
    "            finaltail = finaltail.next\n",
    "            h2 = h2.next\n",
    "    if h1 is None:\n",
    "        finaltail.next = h2\n",
    "    if h2 is None:\n",
    "        finaltail.next = h1\n",
    "        \n",
    "    return finalhead\n",
    "\n",
    "def mergeSort(head) :\n",
    "    if head is None:\n",
    "        return head\n",
    "    if head.next is None:\n",
    "    \treturn head\n",
    "\n",
    "    mid = midPoint(head)\n",
    "    head2 = mid.next\n",
    "    mid.next = None\n",
    "    head1 = head\n",
    "    fh1 = mergeSort(head1)\n",
    "    fh2 = mergeSort(head2)\n",
    "    fh = mergeLL(fh1,fh2)\n",
    "    return fh\n"
   ]
  },
  {
   "cell_type": "code",
   "execution_count": 10,
   "metadata": {},
   "outputs": [],
   "source": [
    "for i in range(0):\n",
    "    print(i)"
   ]
  },
  {
   "cell_type": "code",
   "execution_count": null,
   "metadata": {},
   "outputs": [],
   "source": []
  }
 ],
 "metadata": {
  "kernelspec": {
   "display_name": "Python 3",
   "language": "python",
   "name": "python3"
  },
  "language_info": {
   "codemirror_mode": {
    "name": "ipython",
    "version": 3
   },
   "file_extension": ".py",
   "mimetype": "text/x-python",
   "name": "python",
   "nbconvert_exporter": "python",
   "pygments_lexer": "ipython3",
   "version": "3.8.3"
  }
 },
 "nbformat": 4,
 "nbformat_minor": 4
}
