{
 "cells": [
  {
   "cell_type": "markdown",
   "metadata": {},
   "source": [
    "### Heap sort"
   ]
  },
  {
   "cell_type": "markdown",
   "metadata": {},
   "source": [
    "- Time complexity: O(nlogn)\n",
    "- Space complexity: O(n) but can be reduced to O(1) if in-place heap sort is used"
   ]
  },
  {
   "cell_type": "markdown",
   "metadata": {},
   "source": [
    "### Implement the heap with time complexity as O(nlogn) and space complexity as O(1)"
   ]
  },
  {
   "cell_type": "code",
   "execution_count": null,
   "metadata": {},
   "outputs": [],
   "source": []
  },
  {
   "cell_type": "markdown",
   "metadata": {},
   "source": [
    "### Optimised Implementation of heap sort with time compleity as O(n) for building a heap and space complexity as O(1)"
   ]
  },
  {
   "cell_type": "code",
   "execution_count": 57,
   "metadata": {},
   "outputs": [],
   "source": [
    "# In-place heap with time compleity as O(n) for building a heap and space complexity as O(1)\n",
    "def down_heapify(arr,i,n):\n",
    "    parentIndex = i\n",
    "    leftChildIndex = 2*parentIndex+1\n",
    "    rightChildIndex = 2*parentIndex+2\n",
    "    \n",
    "    while leftChildIndex < n:\n",
    "        minIndex = parentIndex\n",
    "        if arr[minIndex] > arr[leftChildIndex]:\n",
    "            minIndex = leftChildIndex\n",
    "        if rightChildIndex < n and arr[minIndex] > arr[rightChildIndex]:\n",
    "            minIndex = rightChildIndex\n",
    "        if minIndex == parentIndex:\n",
    "            return\n",
    "        arr[minIndex],arr[parentIndex] = arr[parentIndex],arr[minIndex]\n",
    "        parentIndex = minIndex\n",
    "        leftChildIndex = 2*parentIndex+1\n",
    "        rightChildIndex = 2*parentIndex+2\n",
    "    return\n",
    "\n",
    "\n",
    "def heapsort(arr):\n",
    "    # Build the heap\n",
    "    n = len(arr)\n",
    "    for i in range(n//2 -1,-1,-1):\n",
    "        down_heapify(arr,i,n)\n",
    " \n",
    "    # Remove n elements from heap and put them at correct position\n",
    "    for i in range(n-1,0,-1):\n",
    "        arr[0],arr[i] = arr[i],arr[0]\n",
    "        down_heapify(arr,0,i)\n",
    "    return"
   ]
  },
  {
   "cell_type": "code",
   "execution_count": 56,
   "metadata": {},
   "outputs": [
    {
     "name": "stdout",
     "output_type": "stream",
     "text": [
      "8 9 2 5 1 7 11 3 4 6\n",
      "11 9 8 7 6 5 4 3 2 1 "
     ]
    }
   ],
   "source": [
    "arr = [int(ele) for ele in input().split()]\n",
    "heapsort(arr)\n",
    "for ele in arr:\n",
    "    print(ele,end=' ')"
   ]
  },
  {
   "cell_type": "markdown",
   "metadata": {},
   "source": [
    "### In-built min priority queues or min heap"
   ]
  },
  {
   "cell_type": "code",
   "execution_count": 41,
   "metadata": {},
   "outputs": [],
   "source": [
    "import heapq\n",
    "li = [8,9,2,5,1,7,11,3,4,6]\n",
    "heapq.heapify(li) ## creating a min heap"
   ]
  },
  {
   "cell_type": "code",
   "execution_count": 42,
   "metadata": {},
   "outputs": [
    {
     "name": "stdout",
     "output_type": "stream",
     "text": [
      "[1, 3, 2, 4, 6, 7, 11, 5, 8, 9]\n"
     ]
    }
   ],
   "source": [
    "print(li)"
   ]
  },
  {
   "cell_type": "code",
   "execution_count": 43,
   "metadata": {},
   "outputs": [
    {
     "name": "stdout",
     "output_type": "stream",
     "text": [
      "[0, 1, 2, 4, 3, 7, 11, 5, 8, 9, 6]\n"
     ]
    }
   ],
   "source": [
    "## pushing new element into a min heap\n",
    "heapq.heappush(li,0)\n",
    "print(li)"
   ]
  },
  {
   "cell_type": "code",
   "execution_count": 44,
   "metadata": {},
   "outputs": [
    {
     "name": "stdout",
     "output_type": "stream",
     "text": [
      "0\n"
     ]
    }
   ],
   "source": [
    "## pop out min element from a min heap\n",
    "print(heapq.heappop(li))"
   ]
  },
  {
   "cell_type": "code",
   "execution_count": 45,
   "metadata": {},
   "outputs": [
    {
     "name": "stdout",
     "output_type": "stream",
     "text": [
      "[1, 3, 2, 4, 6, 7, 11, 5, 8, 9]\n"
     ]
    }
   ],
   "source": [
    "print(li)"
   ]
  },
  {
   "cell_type": "code",
   "execution_count": 46,
   "metadata": {},
   "outputs": [
    {
     "data": {
      "text/plain": [
       "1"
      ]
     },
     "execution_count": 46,
     "metadata": {},
     "output_type": "execute_result"
    }
   ],
   "source": [
    "## replace min element in a min heap\n",
    "heapq.heapreplace(li,22)"
   ]
  },
  {
   "cell_type": "code",
   "execution_count": 47,
   "metadata": {},
   "outputs": [
    {
     "name": "stdout",
     "output_type": "stream",
     "text": [
      "[2, 3, 7, 4, 6, 22, 11, 5, 8, 9]\n"
     ]
    }
   ],
   "source": [
    "print(li)"
   ]
  },
  {
   "cell_type": "markdown",
   "metadata": {},
   "source": [
    "### In-built max priority queues or max heap"
   ]
  },
  {
   "cell_type": "code",
   "execution_count": 48,
   "metadata": {},
   "outputs": [
    {
     "name": "stdout",
     "output_type": "stream",
     "text": [
      "[11, 9, 8, 5, 6, 7, 2, 3, 4, 1]\n"
     ]
    }
   ],
   "source": [
    "import heapq\n",
    "li = [8,9,2,5,1,7,11,3,4,6]\n",
    "heapq._heapify_max(li) # creating a max heap\n",
    "print(li)"
   ]
  },
  {
   "cell_type": "code",
   "execution_count": 49,
   "metadata": {},
   "outputs": [
    {
     "name": "stdout",
     "output_type": "stream",
     "text": [
      "11\n"
     ]
    }
   ],
   "source": [
    "## pop out max element from max heap\n",
    "print(heapq._heappop_max(li))"
   ]
  },
  {
   "cell_type": "code",
   "execution_count": 50,
   "metadata": {},
   "outputs": [
    {
     "name": "stdout",
     "output_type": "stream",
     "text": [
      "[9, 6, 8, 5, 1, 7, 2, 3, 4]\n"
     ]
    }
   ],
   "source": [
    "print(li)"
   ]
  },
  {
   "cell_type": "code",
   "execution_count": 51,
   "metadata": {},
   "outputs": [
    {
     "data": {
      "text/plain": [
       "9"
      ]
     },
     "execution_count": 51,
     "metadata": {},
     "output_type": "execute_result"
    }
   ],
   "source": [
    "## replace max element from a max heap\n",
    "heapq._heapreplace_max(li,0)"
   ]
  },
  {
   "cell_type": "code",
   "execution_count": 52,
   "metadata": {},
   "outputs": [
    {
     "name": "stdout",
     "output_type": "stream",
     "text": [
      "[8, 6, 7, 5, 1, 0, 2, 3, 4]\n"
     ]
    }
   ],
   "source": [
    "print(li)"
   ]
  },
  {
   "cell_type": "code",
   "execution_count": 53,
   "metadata": {},
   "outputs": [],
   "source": [
    "## no default push function for max \n",
    "## so we can implementing push function for max heap using below lines\n",
    "\n",
    "li.append(9)\n",
    "heapq._siftdown_max(li,0,len(li)-1)"
   ]
  },
  {
   "cell_type": "code",
   "execution_count": 54,
   "metadata": {},
   "outputs": [
    {
     "name": "stdout",
     "output_type": "stream",
     "text": [
      "[9, 8, 7, 5, 6, 0, 2, 3, 4, 1]\n"
     ]
    }
   ],
   "source": [
    "print(li)"
   ]
  },
  {
   "cell_type": "markdown",
   "metadata": {},
   "source": [
    "### K Smallest Elements in a List"
   ]
  },
  {
   "cell_type": "code",
   "execution_count": null,
   "metadata": {},
   "outputs": [],
   "source": [
    "import heapq\n",
    "\n",
    "def kSmallestElements(arr,k):\n",
    "    ans = arr[:k]\n",
    "    heapq._heapify_max(ans)\n",
    "    for i in range(k,len(arr)):\n",
    "        if ans[0] > arr[i]:\n",
    "            heapq._heapreplace_max(ans,arr[i])\n",
    "    return ans\n",
    "\n",
    "\n",
    "# Main\n",
    "n=int(input())\n",
    "lst=list(int(i) for i in input().strip().split(' '))\n",
    "k=int(input())\n",
    "ans=kSmallestElements(lst, k)\n",
    "ans.sort()\n",
    "print(*ans, sep=' ')"
   ]
  },
  {
   "cell_type": "markdown",
   "metadata": {},
   "source": [
    "### K Largest Elements in a List"
   ]
  },
  {
   "cell_type": "code",
   "execution_count": 58,
   "metadata": {},
   "outputs": [],
   "source": [
    "import heapq\n",
    "\n",
    "def kLargestElements(arr,k):\n",
    "    ans = arr[:k]\n",
    "    heapq.heapify(ans)\n",
    "    for i in range(k,len(arr)):\n",
    "        if ans[0] < arr[i]:\n",
    "            heapq.heapreplace(ans,arr[i])\n",
    "    return ans"
   ]
  },
  {
   "cell_type": "markdown",
   "metadata": {},
   "source": [
    "### Check Max-Heap"
   ]
  },
  {
   "cell_type": "code",
   "execution_count": 1,
   "metadata": {},
   "outputs": [],
   "source": [
    "def checkMaxHeap(lst):\n",
    "    n = len(lst)\n",
    "    for i in range(n//2):\n",
    "        parentIndex = i\n",
    "        leftChildIndex = 2*parentIndex+1\n",
    "        rightChildIndex= 2*parentIndex+2\n",
    "        if leftChildIndex < n and lst[parentIndex] < lst[leftChildIndex] :\n",
    "            return False\n",
    "        if rightChildIndex < n and lst[parentIndex]< lst[rightChildIndex]:\n",
    "            return False\n",
    "    return True"
   ]
  },
  {
   "cell_type": "markdown",
   "metadata": {},
   "source": [
    "### Kth largest element"
   ]
  },
  {
   "cell_type": "code",
   "execution_count": 2,
   "metadata": {},
   "outputs": [
    {
     "name": "stdout",
     "output_type": "stream",
     "text": [
      "8\n",
      "2 6 10 11 13 4 1 20\n",
      "4\n",
      "10\n"
     ]
    }
   ],
   "source": [
    "import heapq\n",
    "def kthLargest(lst, k):\n",
    "    heapq._heapify_max(lst)\n",
    "    for i in range(k):\n",
    "        n = heapq._heappop_max(lst)\n",
    "    return n\n",
    "    \n",
    "# Main\n",
    "n=int(input())\n",
    "lst=list(int(i) for i in input().strip().split(' '))\n",
    "k=int(input())\n",
    "ans=kthLargest(lst, k)\n",
    "print(ans)"
   ]
  },
  {
   "cell_type": "markdown",
   "metadata": {},
   "source": [
    "### Buy the ticket"
   ]
  },
  {
   "cell_type": "markdown",
   "metadata": {},
   "source": [
    "```\n",
    "You want to buy a ticket for a well-known concert which is happening in your city. But the number of tickets available is limited. Hence the sponsors of the concert decided to sell tickets to customers based on some priority.\n",
    "A queue is maintained for buying the tickets and every person is attached with a priority (an integer, 1 being the lowest priority).\n",
    "The tickets are sold in the following manner -\n",
    "1. The first person (pi) in the queue requests for the ticket.\n",
    "2. If there is another person present in the queue who has higher priority than pi, then ask pi to move at end of the queue without giving him the ticket.\n",
    "3. Otherwise, give him the ticket (and don't make him stand in queue again).\n",
    "Giving a ticket to a person takes exactly 1 minute and it takes no time for removing and adding a person to the queue. And you can assume that no new person joins the queue.\n",
    "Given a list of priorities of N persons standing in the queue and the index of your priority (indexing starts from 0). Find and return the time it will take until you get the ticket.\n",
    "Input Format:\n",
    "The first line of input contains an integer, that denotes the value of total number of people standing in queue or the size of the array of priorities. Let us denote it with the symbol N.\n",
    "The following line contains N space separated integers, that denote the value of the elements of the array of priorities.\n",
    "The following contains an integer, that denotes the value of index of your priority. Let us denote it with symbol k.\n",
    "Output Format :\n",
    "The first and only line of output contains the time required for you to get the ticket.\n",
    "Constraints:\n",
    "Time Limit: 1 sec\n",
    "Sample Input 1 :\n",
    "3\n",
    "3 9 4\n",
    "2\n",
    "Sample Output 1 :\n",
    "2\n",
    "Sample Output 1 Explanation :\n",
    "Person with priority 3 comes out. But there is a person with higher priority than him. So he goes and then stands in the queue at the end. Queue's status :  {9, 4, 3}. Time : 0 secs.\n",
    "Next, the person with priority 9 comes out. And there is no person with higher priority than him. So he'll get the ticket. Queue's status :  {4, 3}. Time : 1 secs.\n",
    "Next, the person with priority 4 comes out (which is you). And there is no person with higher priority than you. So you'll get the ticket. Time : 2 secs.\n",
    "Sample Input 2 :\n",
    "5\n",
    "2 3 2 2 4\n",
    "3\n",
    "Sample Output 2 :\n",
    "4\n",
    "                                ```"
   ]
  },
  {
   "cell_type": "code",
   "execution_count": null,
   "metadata": {},
   "outputs": [],
   "source": []
  }
 ],
 "metadata": {
  "kernelspec": {
   "display_name": "Python 3",
   "language": "python",
   "name": "python3"
  },
  "language_info": {
   "codemirror_mode": {
    "name": "ipython",
    "version": 3
   },
   "file_extension": ".py",
   "mimetype": "text/x-python",
   "name": "python",
   "nbconvert_exporter": "python",
   "pygments_lexer": "ipython3",
   "version": "3.8.3"
  }
 },
 "nbformat": 4,
 "nbformat_minor": 4
}
