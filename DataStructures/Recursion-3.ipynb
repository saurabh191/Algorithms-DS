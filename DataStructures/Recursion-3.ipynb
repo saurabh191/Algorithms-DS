{
 "cells": [
  {
   "cell_type": "markdown",
   "metadata": {},
   "source": [
    "- Find geometric sum using recursion for a given kth term (1 + 1/2 + 1/4 + 1/8 + ... + 1/(2^k)). Print values till 5 decimal places"
   ]
  },
  {
   "cell_type": "code",
   "execution_count": 10,
   "metadata": {},
   "outputs": [
    {
     "name": "stdout",
     "output_type": "stream",
     "text": [
      "5\n",
      "1.96875\n"
     ]
    }
   ],
   "source": [
    "def geometric_sum(n):\n",
    "    if n == 0:\n",
    "        return (1/2)**0\n",
    "    smalloutput = geometric_sum(n-1)\n",
    "    return (1/2)**n + smalloutput\n",
    "\n",
    "# Main\n",
    "#from sys import setrecursionlimit\n",
    "#setrecursionlimit(11000)\n",
    "n=int(input())\n",
    "sum_v = geometric_sum(n)\n",
    "print (\"{0:.5f}\".format(sum_v))"
   ]
  },
  {
   "cell_type": "markdown",
   "metadata": {},
   "source": [
    "- Check Palindrome or not using recursion. Return true or false as output"
   ]
  },
  {
   "cell_type": "code",
   "execution_count": 42,
   "metadata": {},
   "outputs": [
    {
     "name": "stdout",
     "output_type": "stream",
     "text": [
      "manam\n",
      "true\n"
     ]
    }
   ],
   "source": [
    "#Approach-1\n",
    "#Using indices\n",
    "\n",
    "def check_palindrome(s,si,ei):\n",
    "    if si >= ei:\n",
    "        return 'true'\n",
    "    if s[si] != s[ei]:\n",
    "        return 'false'\n",
    "    return check_palindrome(s,si+1,ei-1)\n",
    "\n",
    "s=input()\n",
    "print(check_palindrome(s,0,len(s)-1))"
   ]
  },
  {
   "cell_type": "code",
   "execution_count": 43,
   "metadata": {},
   "outputs": [
    {
     "name": "stdout",
     "output_type": "stream",
     "text": [
      "manam\n",
      "true\n"
     ]
    }
   ],
   "source": [
    "#Approach-2 \n",
    "#Using helper function\n",
    "\n",
    "def helper(a,start,end):\n",
    "    if start==end:\n",
    "        return True\n",
    "\n",
    "    if(a[start]!=a[end]):\n",
    "        return False\n",
    "    if start<end+1:\n",
    "        return helper(a,start+1,end-1)\n",
    "    return True\n",
    "    \n",
    "def CheckPalin(a):\n",
    "    if len(a)==1 or len(a)==0:\n",
    "        return True\n",
    "    return helper(a,0,len(a)-1)\n",
    "    \n",
    "a=input()\n",
    "if(CheckPalin(a)):\n",
    "    print('true')\n",
    "else:\n",
    "    print('false')"
   ]
  },
  {
   "cell_type": "markdown",
   "metadata": {},
   "source": [
    "- Find the sum of digits of a number using recursion"
   ]
  },
  {
   "cell_type": "code",
   "execution_count": 41,
   "metadata": {},
   "outputs": [
    {
     "name": "stdout",
     "output_type": "stream",
     "text": [
      "12341\n",
      "11\n"
     ]
    }
   ],
   "source": [
    "def sumofdigits(n):\n",
    "    if len(n)==0:\n",
    "        return 0\n",
    "    sum_n_1 = sumofdigits(n[1:])\n",
    "    return n[0]+sum_n_1\n",
    "    \n",
    "n = [int(i) for i in str(input())]\n",
    "print(sumofdigits(n))"
   ]
  },
  {
   "cell_type": "markdown",
   "metadata": {},
   "source": [
    "- Multipliaction of two numbers using recursion"
   ]
  },
  {
   "cell_type": "code",
   "execution_count": 45,
   "metadata": {},
   "outputs": [
    {
     "name": "stdout",
     "output_type": "stream",
     "text": [
      "3\n",
      "5\n",
      "15\n"
     ]
    }
   ],
   "source": [
    "def rec_multiply(m,n):\n",
    "    if n==0:\n",
    "        return 0\n",
    "    smalloutput = rec_multiply(m,n-1)\n",
    "    return m+smalloutput\n",
    "\n",
    "# from sys import setrecursionlimit\n",
    "# setrecursionlimit(11000)\n",
    "m = int(input())\n",
    "n = int(input())\n",
    "print(rec_multiply(m,n))"
   ]
  },
  {
   "cell_type": "markdown",
   "metadata": {},
   "source": [
    "- Given an integer N, count and return the number of zeros that are present in the given integer using recursion"
   ]
  },
  {
   "cell_type": "code",
   "execution_count": 10,
   "metadata": {},
   "outputs": [
    {
     "name": "stdout",
     "output_type": "stream",
     "text": [
      "00010204\n",
      "2\n"
     ]
    }
   ],
   "source": [
    "def count_zeroes(n):\n",
    "    if n==0:\n",
    "        return 1\n",
    "    if n < 10:\n",
    "        return 0\n",
    "    count_value = count_zeroes(n//10)\n",
    "    if n%10==0:\n",
    "        count_value = count_value + 1\n",
    "    return count_value\n",
    "        \n",
    "from sys import setrecursionlimit\n",
    "setrecursionlimit(11000)\n",
    "n = int(input())\n",
    "print(count_zeroes(n))"
   ]
  },
  {
   "cell_type": "markdown",
   "metadata": {},
   "source": [
    "- Convert string to integer"
   ]
  },
  {
   "cell_type": "code",
   "execution_count": 25,
   "metadata": {},
   "outputs": [
    {
     "name": "stdout",
     "output_type": "stream",
     "text": [
      "080\n",
      "80\n"
     ]
    }
   ],
   "source": [
    "#Approach-1\n",
    "def stringToInt(str): \n",
    "    if (len(str) == 1): \n",
    "        return ord(str[0]) - ord('0')  \n",
    "    y = stringToInt(str[1:])  \n",
    "    x = ord(str[0]) - ord('0')\n",
    "    return x * (10**(len(str) - 1)) + y\n",
    "str = input()\n",
    "print(stringToInt(str))"
   ]
  },
  {
   "cell_type": "code",
   "execution_count": 23,
   "metadata": {},
   "outputs": [
    {
     "name": "stdout",
     "output_type": "stream",
     "text": [
      "1234\n",
      "1234\n"
     ]
    }
   ],
   "source": [
    "#Approach-2\n",
    "def stringtoint(n):\n",
    "    if len(n)==1:\n",
    "        return ord(n[0]) - ord('0')\n",
    "    initialTerm = stringtoint(n[0:len(n)-1])\n",
    "    lastTerm = ord(n[len(n)-1]) - ord('0')\n",
    "    return initialTerm*10 + lastTerm\n",
    "# from sys import setrecursionlimit\n",
    "# setrecursionlimit(11000)\n",
    "n = input()\n",
    "print(stringtoint(n))"
   ]
  },
  {
   "cell_type": "markdown",
   "metadata": {},
   "source": [
    "- Given a string S, compute recursively a new string where identical chars that are adjacent in the original string are separated from each other by a \"*\"."
   ]
  },
  {
   "cell_type": "code",
   "execution_count": 35,
   "metadata": {},
   "outputs": [
    {
     "name": "stdout",
     "output_type": "stream",
     "text": [
      "aaaa\n",
      "a*a*a*a\n"
     ]
    }
   ],
   "source": [
    "def pair_star(n):\n",
    "    if len(n)==0 or len(n)==1:\n",
    "        return n\n",
    "    if n[0] == n[1]:\n",
    "        return n[0]+'*'+ pair_star(n[1:])\n",
    "    else:\n",
    "        return n[0] + pair_star(n[1:])\n",
    "\n",
    "n = input()\n",
    "print(pair_star(n))"
   ]
  },
  {
   "cell_type": "markdown",
   "metadata": {},
   "source": [
    "- Suppose you have a string, S, made up of only 'a's and 'b's. Write a recursive function that checks if the string was generated using the following rules:"
   ]
  },
  {
   "cell_type": "markdown",
   "metadata": {},
   "source": [
    "- a. The string begins with an 'a'\n",
    "- b. Each 'a' is followed by nothing or an 'a' or \"bb\"\n",
    "- c. Each \"bb\" is followed by nothing or an 'a'"
   ]
  },
  {
   "cell_type": "code",
   "execution_count": 40,
   "metadata": {},
   "outputs": [
    {
     "name": "stdout",
     "output_type": "stream",
     "text": [
      "abbbb\n",
      "false\n"
     ]
    }
   ],
   "source": [
    "def checkAB(s):\n",
    "    if len(s) == 0:\n",
    "        return 1\n",
    "    if s[0] == 'a':\n",
    "        if len(s[1:]) > 1 and s[1:3] == 'bb':\n",
    "            return checkAB(s[3:])\n",
    "        else:\n",
    "            return checkAB(s[1:])\n",
    "    else:\n",
    "        return 0\n",
    "\n",
    "s = input()\n",
    "if checkAB(s):\n",
    "    print('true')\n",
    "else:\n",
    "    print('false')"
   ]
  },
  {
   "cell_type": "markdown",
   "metadata": {},
   "source": [
    "- A child is running up a staircase with N steps, and can hop either 1 step, 2 steps or 3 steps at a time. Implement a method to count how many possible ways the child can run up to the stairs. You need to return number of possible ways W."
   ]
  },
  {
   "cell_type": "code",
   "execution_count": 1,
   "metadata": {},
   "outputs": [
    {
     "name": "stdout",
     "output_type": "stream",
     "text": [
      "3\n",
      "4\n"
     ]
    }
   ],
   "source": [
    "def staircase(n):\n",
    "    if n==0 or n==1:\n",
    "        return 1\n",
    "    if n==2:\n",
    "        return 2\n",
    "    if n>2:\n",
    "        return staircase(n-1) + staircase(n-2) + staircase(n-3)\n",
    "\n",
    "n = int(input())\n",
    "print(staircase(n))\n",
    "    "
   ]
  },
  {
   "cell_type": "code",
   "execution_count": null,
   "metadata": {},
   "outputs": [],
   "source": []
  }
 ],
 "metadata": {
  "kernelspec": {
   "display_name": "Python 3",
   "language": "python",
   "name": "python3"
  },
  "language_info": {
   "codemirror_mode": {
    "name": "ipython",
    "version": 3
   },
   "file_extension": ".py",
   "mimetype": "text/x-python",
   "name": "python",
   "nbconvert_exporter": "python",
   "pygments_lexer": "ipython3",
   "version": "3.8.3"
  }
 },
 "nbformat": 4,
 "nbformat_minor": 4
}
