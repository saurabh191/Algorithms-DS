{
 "cells": [
  {
   "cell_type": "markdown",
   "metadata": {},
   "source": [
    "- Abstract classes"
   ]
  },
  {
   "cell_type": "code",
   "execution_count": 2,
   "metadata": {},
   "outputs": [],
   "source": [
    "# Abstract classes are thoses which have abstract methods\n",
    "# Object of abstract class can't be created\n",
    "# While inheriting, all the methods of abstract class i.e. abstract methods need to be created in child class"
   ]
  },
  {
   "cell_type": "code",
   "execution_count": 3,
   "metadata": {},
   "outputs": [],
   "source": [
    "# it is import from abc module in python\n",
    "# from abc import ABC,abstractmethod\n"
   ]
  },
  {
   "cell_type": "code",
   "execution_count": 12,
   "metadata": {},
   "outputs": [],
   "source": [
    "# Below error will be generated if object from abstract class are created"
   ]
  },
  {
   "cell_type": "code",
   "execution_count": 13,
   "metadata": {},
   "outputs": [
    {
     "ename": "TypeError",
     "evalue": "Can't instantiate abstract class A with abstract methods fun1, fun2",
     "output_type": "error",
     "traceback": [
      "\u001b[0;31m---------------------------------------------------------------------------\u001b[0m",
      "\u001b[0;31mTypeError\u001b[0m                                 Traceback (most recent call last)",
      "\u001b[0;32m<ipython-input-13-8b7dd82f0650>\u001b[0m in \u001b[0;36m<module>\u001b[0;34m\u001b[0m\n\u001b[1;32m     11\u001b[0m         \u001b[0;32mpass\u001b[0m\u001b[0;34m\u001b[0m\u001b[0;34m\u001b[0m\u001b[0m\n\u001b[1;32m     12\u001b[0m \u001b[0;34m\u001b[0m\u001b[0m\n\u001b[0;32m---> 13\u001b[0;31m \u001b[0mo\u001b[0m \u001b[0;34m=\u001b[0m \u001b[0mA\u001b[0m\u001b[0;34m(\u001b[0m\u001b[0;34m)\u001b[0m\u001b[0;34m\u001b[0m\u001b[0;34m\u001b[0m\u001b[0m\n\u001b[0m\u001b[1;32m     14\u001b[0m \u001b[0mo\u001b[0m\u001b[0;34m.\u001b[0m\u001b[0mfun1\u001b[0m\u001b[0;34m(\u001b[0m\u001b[0;34m)\u001b[0m\u001b[0;34m\u001b[0m\u001b[0;34m\u001b[0m\u001b[0m\n",
      "\u001b[0;31mTypeError\u001b[0m: Can't instantiate abstract class A with abstract methods fun1, fun2"
     ]
    }
   ],
   "source": [
    "from abc import ABC,abstractmethod\n",
    "\n",
    "class A(ABC):\n",
    "\n",
    "    @abstractmethod\n",
    "    def fun1(self):\n",
    "        pass\n",
    "\n",
    "    @abstractmethod\n",
    "    def fun2(self):\n",
    "        pass\n",
    "\n",
    "o = A()\n",
    "o.fun1()"
   ]
  },
  {
   "cell_type": "code",
   "execution_count": 14,
   "metadata": {},
   "outputs": [],
   "source": [
    "# Below error will be generated if all the abstract methods are not created in child class"
   ]
  },
  {
   "cell_type": "code",
   "execution_count": 15,
   "metadata": {},
   "outputs": [
    {
     "ename": "TypeError",
     "evalue": "Can't instantiate abstract class B with abstract methods fun2",
     "output_type": "error",
     "traceback": [
      "\u001b[0;31m---------------------------------------------------------------------------\u001b[0m",
      "\u001b[0;31mTypeError\u001b[0m                                 Traceback (most recent call last)",
      "\u001b[0;32m<ipython-input-15-a7a09edb7672>\u001b[0m in \u001b[0;36m<module>\u001b[0;34m\u001b[0m\n\u001b[1;32m     15\u001b[0m     \u001b[0;32mdef\u001b[0m \u001b[0mfun1\u001b[0m\u001b[0;34m(\u001b[0m\u001b[0mself\u001b[0m\u001b[0;34m)\u001b[0m\u001b[0;34m:\u001b[0m\u001b[0;34m\u001b[0m\u001b[0;34m\u001b[0m\u001b[0m\n\u001b[1;32m     16\u001b[0m         \u001b[0mprint\u001b[0m\u001b[0;34m(\u001b[0m\u001b[0;34m'function 1 called'\u001b[0m\u001b[0;34m)\u001b[0m\u001b[0;34m\u001b[0m\u001b[0;34m\u001b[0m\u001b[0m\n\u001b[0;32m---> 17\u001b[0;31m \u001b[0mo\u001b[0m \u001b[0;34m=\u001b[0m \u001b[0mB\u001b[0m\u001b[0;34m(\u001b[0m\u001b[0;34m)\u001b[0m\u001b[0;34m\u001b[0m\u001b[0;34m\u001b[0m\u001b[0m\n\u001b[0m\u001b[1;32m     18\u001b[0m \u001b[0mo\u001b[0m\u001b[0;34m.\u001b[0m\u001b[0mfun1\u001b[0m\u001b[0;34m(\u001b[0m\u001b[0;34m)\u001b[0m\u001b[0;34m\u001b[0m\u001b[0;34m\u001b[0m\u001b[0m\n",
      "\u001b[0;31mTypeError\u001b[0m: Can't instantiate abstract class B with abstract methods fun2"
     ]
    }
   ],
   "source": [
    "from abc import ABC,abstractmethod\n",
    "\n",
    "class A(ABC):\n",
    "\n",
    "    @abstractmethod\n",
    "    def fun1(self):\n",
    "        pass\n",
    "\n",
    "    @abstractmethod\n",
    "    def fun2(self):\n",
    "        pass\n",
    "\n",
    "class B(A):\n",
    "\n",
    "    def fun1(self):\n",
    "        print('function 1 called')\n",
    "o = B()\n",
    "o.fun1()"
   ]
  },
  {
   "cell_type": "code",
   "execution_count": 16,
   "metadata": {},
   "outputs": [],
   "source": [
    "# Example of creating all the abtract methods from a abstract class in a child class"
   ]
  },
  {
   "cell_type": "code",
   "execution_count": 17,
   "metadata": {},
   "outputs": [
    {
     "name": "stdout",
     "output_type": "stream",
     "text": [
      "function 1 called\n"
     ]
    }
   ],
   "source": [
    "from abc import ABC,abstractmethod\n",
    "\n",
    "class A(ABC):\n",
    "\n",
    "    @abstractmethod\n",
    "    def fun1(self):\n",
    "        pass\n",
    "\n",
    "    @abstractmethod\n",
    "    def fun2(self):\n",
    "        pass\n",
    "\n",
    "class B(A):\n",
    "\n",
    "    def fun1(self):\n",
    "        print('function 1 called')\n",
    "\n",
    "    def fun2(self):\n",
    "        print('function 2 called')\n",
    "o = B()\n",
    "o.fun1()"
   ]
  },
  {
   "cell_type": "code",
   "execution_count": 19,
   "metadata": {},
   "outputs": [
    {
     "name": "stdout",
     "output_type": "stream",
     "text": [
      "Automobile created\n",
      "Automobile created\n",
      "4\n",
      "8\n"
     ]
    }
   ],
   "source": [
    "\n",
    "from abc import ABC,abstractmethod\n",
    "\n",
    "class Automobile(ABC):\n",
    "\n",
    "\tdef __init__(self,no_of_wheels):\n",
    "\t\tself.no_of_wheels = no_of_wheels\n",
    "\t\tprint(\"Automobile created\")\n",
    "\n",
    "\t@abstractmethod\n",
    "\tdef start(self):\n",
    "\t\tprint(\"start of Automobile called\")\n",
    "\t@abstractmethod\n",
    "\tdef stop(self):\n",
    "\t\tpass\n",
    "\n",
    "\t@abstractmethod\n",
    "\tdef drive(self):\n",
    "\t\tpass\n",
    "\t@abstractmethod\n",
    "\tdef get_no_of_wheels(self):\n",
    "\t\treturn self.no_of_wheels\n",
    "\n",
    "class Car(Automobile):\n",
    "\n",
    "\n",
    "\tdef start(self):\n",
    "\t\tsuper().start()\n",
    "\t\tprint(\"start of Car called\")\n",
    "\n",
    "\tdef stop(self):\n",
    "\t\tpass\n",
    "\n",
    "\tdef drive(self):\n",
    "\t\tpass\n",
    "\tdef get_no_of_wheels(self):\n",
    "\t\treturn super().get_no_of_wheels()\n",
    "\n",
    "class Bus(Automobile):\n",
    "\n",
    "\tdef start(self):\n",
    "\t\tpass\n",
    "\n",
    "\tdef stop(self):\n",
    "\t\tpass\n",
    "\n",
    "\tdef drive(self):\n",
    "\t\tpass\n",
    "\tdef get_no_of_wheels(self):\n",
    "\t\treturn super().get_no_of_wheels()\n",
    "\n",
    "c = Car(4)\n",
    "b = Bus(8)\n",
    "print(c.get_no_of_wheels())\n",
    "print(b.get_no_of_wheels())\n",
    "# c = Car(\"Honda\")\n",
    "# c.start()\n",
    "# b = Bus(\"Delhi Metro Bus\")"
   ]
  },
  {
   "cell_type": "code",
   "execution_count": 1,
   "metadata": {},
   "outputs": [
    {
     "ename": "ZeroDenominatorError",
     "evalue": "",
     "output_type": "error",
     "traceback": [
      "\u001b[0;31m---------------------------------------------------------------------------\u001b[0m",
      "\u001b[0;31mZeroDenominatorError\u001b[0m                      Traceback (most recent call last)",
      "\u001b[0;32m<ipython-input-1-c9ebb5ac2a06>\u001b[0m in \u001b[0;36m<module>\u001b[0;34m\u001b[0m\n\u001b[1;32m      5\u001b[0m     \u001b[0mb\u001b[0m \u001b[0;34m=\u001b[0m \u001b[0;36m0\u001b[0m\u001b[0;34m\u001b[0m\u001b[0;34m\u001b[0m\u001b[0m\n\u001b[1;32m      6\u001b[0m     \u001b[0;32mif\u001b[0m\u001b[0;34m(\u001b[0m\u001b[0mb\u001b[0m\u001b[0;34m==\u001b[0m\u001b[0;36m0\u001b[0m\u001b[0;34m)\u001b[0m\u001b[0;34m:\u001b[0m\u001b[0;34m\u001b[0m\u001b[0;34m\u001b[0m\u001b[0m\n\u001b[0;32m----> 7\u001b[0;31m         \u001b[0;32mraise\u001b[0m \u001b[0mZeroDenominatorError\u001b[0m\u001b[0;34m(\u001b[0m\u001b[0;34m)\u001b[0m\u001b[0;34m\u001b[0m\u001b[0;34m\u001b[0m\u001b[0m\n\u001b[0m\u001b[1;32m      8\u001b[0m     \u001b[0mc\u001b[0m \u001b[0;34m=\u001b[0m \u001b[0ma\u001b[0m\u001b[0;34m/\u001b[0m\u001b[0mb\u001b[0m\u001b[0;34m\u001b[0m\u001b[0;34m\u001b[0m\u001b[0m\n\u001b[1;32m      9\u001b[0m \u001b[0;32mexcept\u001b[0m \u001b[0mZeroDivisionError\u001b[0m\u001b[0;34m:\u001b[0m\u001b[0;34m\u001b[0m\u001b[0;34m\u001b[0m\u001b[0m\n",
      "\u001b[0;31mZeroDenominatorError\u001b[0m: "
     ]
    }
   ],
   "source": [
    "class ZeroDenominatorError(Exception):\n",
    "    pass\n",
    "try:\n",
    "    a = 10\n",
    "    b = 0\n",
    "    if(b==0):\n",
    "        raise ZeroDenominatorError() \n",
    "    c = a/b\n",
    "except ZeroDivisionError:\n",
    "    print('Zero Division Error occured')"
   ]
  },
  {
   "cell_type": "code",
   "execution_count": null,
   "metadata": {},
   "outputs": [],
   "source": []
  }
 ],
 "metadata": {
  "kernelspec": {
   "display_name": "Python 3",
   "language": "python",
   "name": "python3"
  },
  "language_info": {
   "codemirror_mode": {
    "name": "ipython",
    "version": 3
   },
   "file_extension": ".py",
   "mimetype": "text/x-python",
   "name": "python",
   "nbconvert_exporter": "python",
   "pygments_lexer": "ipython3",
   "version": "3.8.3"
  }
 },
 "nbformat": 4,
 "nbformat_minor": 4
}
