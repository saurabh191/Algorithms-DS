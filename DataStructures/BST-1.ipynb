{
 "cells": [
  {
   "cell_type": "markdown",
   "metadata": {},
   "source": [
    "### Search in BST"
   ]
  },
  {
   "cell_type": "code",
   "execution_count": 2,
   "metadata": {},
   "outputs": [],
   "source": [
    "def searchInBST(root,k):\n",
    "    if root is None :\n",
    "        return False\n",
    "    if root.data == k:\n",
    "        return True\n",
    "    elif k < root.data :\n",
    "        return searchInBST(root.left,k)\n",
    "    else:\n",
    "        return searchInBST(root.right,k)"
   ]
  },
  {
   "cell_type": "markdown",
   "metadata": {},
   "source": [
    "### Print Elements in Range K1 and K2"
   ]
  },
  {
   "cell_type": "code",
   "execution_count": 7,
   "metadata": {},
   "outputs": [],
   "source": [
    "def printelementsInRangeK1K2(root, k1, k2,a):\n",
    "    if root is None:\n",
    "        return None\n",
    "    if root.data < k1:\n",
    "        printelementsInRangeK1K2(root.right,k1,k2,a)\n",
    "    elif root.data > k2:\n",
    "        printelementsInRangeK1K2(root.left,k1,k2,a)\n",
    "    else:\n",
    "        a.append(root.data)\n",
    "        printelementsInRangeK1K2(root.right,k1,k2,a)\n",
    "        printelementsInRangeK1K2(root.left,k1,k2,a)\n",
    "    return a\n",
    "        \n",
    "def elementsInRangeK1K2(root,k1,k2):\n",
    "    a = []\n",
    "    if root is None:\n",
    "        return None\n",
    "    ele = printelementsInRangeK1K2(root,k1,k2,a)\n",
    "    print(*sorted(ele),end=' ')"
   ]
  },
  {
   "cell_type": "markdown",
   "metadata": {},
   "source": [
    "### Construct BST"
   ]
  },
  {
   "cell_type": "code",
   "execution_count": 8,
   "metadata": {},
   "outputs": [],
   "source": [
    "def constructBST(lst):\n",
    "    if len(lst) == 0:\n",
    "        return\n",
    "    if len(lst)%2==0:\n",
    "        rootData = lst[len(lst)//2 -1]\n",
    "        # root = BinaryTreeNode(rootData)\n",
    "        leftData = constructBST(lst[:len(lst)//2 -1])\n",
    "        rightData = constructBST(lst[len(lst)//2:])\n",
    "    else:\n",
    "        rootData = lst[len(lst)//2]\n",
    "        # root = BinaryTreeNode(rootData)\n",
    "        leftData = constructBST(lst[:len(lst)//2])\n",
    "        rightData = constructBST(lst[len(lst)//2 +1:])\n",
    "    root = BinaryTreeNode(rootData)    \n",
    "    root.left = leftData\n",
    "    root.right = rightData\n",
    "    return root"
   ]
  },
  {
   "cell_type": "markdown",
   "metadata": {},
   "source": [
    "### Check BST"
   ]
  },
  {
   "cell_type": "code",
   "execution_count": 8,
   "metadata": {},
   "outputs": [],
   "source": [
    "### Approach-1\n",
    "### Time complexity is O(nlogn)+O(n)\n",
    "\n",
    "def minTree(root):\n",
    "    if root is None:\n",
    "        return 100000\n",
    "    leftmin = minTree(root.left)\n",
    "    rightmin = minTree(root.right)\n",
    "    return min(leftmin,rightmin,root.data)\n",
    "\n",
    "def maxTree(root):\n",
    "    if root is None:\n",
    "        return -100000\n",
    "    leftmax = maxTree(root.left)\n",
    "    rightmax = maxTree(root.right)\n",
    "    return max(root.data,leftmax,rightmax)\n",
    "\n",
    "def isBST(root):\n",
    "    if root is None:\n",
    "        return None\n",
    "    \n",
    "    leftMax = maxTree(root.left)\n",
    "    rightMin = minTree(root.right)\n",
    "    if root.data > rightMin and root.data < leftMax:\n",
    "        return False\n",
    "    \n",
    "    isLeftBST = isBST(root.left)\n",
    "    isRightBST = isBST(root.right)\n",
    "    return isLeftBST and isRightBST"
   ]
  },
  {
   "cell_type": "code",
   "execution_count": 10,
   "metadata": {},
   "outputs": [],
   "source": [
    "### Approach-2\n",
    "### Time complexity is O(n)\n",
    "\n",
    "def isBSTBetter(root):\n",
    "    if root is None:\n",
    "        return 100000, -100000, True\n",
    "    leftMini, leftMaxi, isLeftTreeBST = isBSTBetter(root.left)\n",
    "    rightMini, rightMaxi, isRightTreeBST = isBSTBetter(root.right)\n",
    "    minimum = min(leftMini,rightMini,root.data)\n",
    "    maximum = max(rightMaxi,leftMaxi,root.data)\n",
    "    if root.data > rightMini and root.data <= leftMaxi:\n",
    "        isTreeBST = False\n",
    "    if not isLeftTreeBST or not isRightTreeBST:\n",
    "        isTreeBST = False      \n",
    "    return minimum,maximum,isTreeBST   "
   ]
  },
  {
   "cell_type": "code",
   "execution_count": null,
   "metadata": {},
   "outputs": [],
   "source": [
    "### Approach-3\n",
    "### Time complexity is \n",
    "\n",
    "def isBST3(root):\n",
    "    "
   ]
  }
 ],
 "metadata": {
  "kernelspec": {
   "display_name": "Python 3",
   "language": "python",
   "name": "python3"
  },
  "language_info": {
   "codemirror_mode": {
    "name": "ipython",
    "version": 3
   },
   "file_extension": ".py",
   "mimetype": "text/x-python",
   "name": "python",
   "nbconvert_exporter": "python",
   "pygments_lexer": "ipython3",
   "version": "3.8.3"
  }
 },
 "nbformat": 4,
 "nbformat_minor": 4
}
