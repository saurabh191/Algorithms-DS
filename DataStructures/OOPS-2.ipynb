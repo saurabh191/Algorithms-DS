{
 "cells": [
  {
   "cell_type": "markdown",
   "metadata": {},
   "source": [
    "- Inheritance"
   ]
  },
  {
   "cell_type": "code",
   "execution_count": 4,
   "metadata": {},
   "outputs": [
    {
     "name": "stdout",
     "output_type": "stream",
     "text": [
      "Colour of the car: Yellow\n",
      "Maxspeed of the car: 3000\n",
      "Number of gear in the car: 6\n",
      "Is it convertible: Yes\n"
     ]
    }
   ],
   "source": [
    "class Vehicle:\n",
    "    \n",
    "    def __init__(self,colour,maxSpeed):\n",
    "        self.colour = colour\n",
    "        self.maxSpeed = maxSpeed\n",
    "\n",
    "        \n",
    "## Inheritance ##\n",
    "\n",
    "class Car(Vehicle):\n",
    "    \n",
    "    def __init__(self,colour,maxSpeed,numGears,isconvertible):\n",
    "        \n",
    "        super().__init__(colour,maxSpeed) ## calling attributes from the parent class to child class\n",
    "        self.numGears = numGears\n",
    "        self.isconvertible = isconvertible\n",
    "        \n",
    "    def printcar(self):\n",
    "        print('Colour of the car:', self.colour)\n",
    "        print('Maxspeed of the car:', self.maxSpeed)\n",
    "        print('Number of gear in the car:', self.numGears)\n",
    "        print('Is it convertible:', self.isconvertible)\n",
    "\n",
    "c = Car('Yellow',3000,6,'Yes')\n",
    "c.printcar()"
   ]
  },
  {
   "cell_type": "code",
   "execution_count": 6,
   "metadata": {},
   "outputs": [],
   "source": [
    "## We will get error if the attributes from super/parent class are not declared in child class using super keyword"
   ]
  },
  {
   "cell_type": "code",
   "execution_count": 7,
   "metadata": {},
   "outputs": [
    {
     "ename": "SyntaxError",
     "evalue": "invalid character in identifier (<ipython-input-7-074802421a34>, line 7)",
     "output_type": "error",
     "traceback": [
      "\u001b[0;36m  File \u001b[0;32m\"<ipython-input-7-074802421a34>\"\u001b[0;36m, line \u001b[0;32m7\u001b[0m\n\u001b[0;31m    c= Car(“black”,5)\u001b[0m\n\u001b[0m                 ^\u001b[0m\n\u001b[0;31mSyntaxError\u001b[0m\u001b[0;31m:\u001b[0m invalid character in identifier\n"
     ]
    }
   ],
   "source": [
    "class Vehicle:\n",
    "     def __init__(self,color):\n",
    "         self.color = color\n",
    "class Car(Vehicle):\n",
    "     def __init__(self,color,numGears):\n",
    "         self.numGears = numGears\n",
    "c= Car(“black”,5)\n",
    "print(c.color)"
   ]
  },
  {
   "cell_type": "markdown",
   "metadata": {},
   "source": [
    "- Inheritance and Private members"
   ]
  },
  {
   "cell_type": "code",
   "execution_count": 11,
   "metadata": {},
   "outputs": [
    {
     "name": "stdout",
     "output_type": "stream",
     "text": [
      "Color : red\n",
      "MaxSpeed : 15\n",
      "NumGears : 3\n",
      "IsConvertible : False\n"
     ]
    }
   ],
   "source": [
    "class Vehicle:\n",
    "\n",
    "    def __init__(self,color,maxSpeed):\n",
    "        self.color = color\n",
    "        self.__maxSpeed = maxSpeed\n",
    "\n",
    "# Way to fetch the private variables in parent class\n",
    "    def getMaxSpeed(self):\n",
    "        return self.__maxSpeed\n",
    "# Way to update the private variables in parent class\n",
    "    def setMaxSpeed(self,maxSpeed):\n",
    "        self.__maxSpeed = maxSpeed\n",
    "\n",
    "    class Car(Vehicle):\n",
    "\n",
    "        def __init__(self,color,maxSpeed,numGears,isConvertible):\n",
    "\n",
    "            super().__init__(color,maxSpeed)\n",
    "            self.numGears = numGears\n",
    "            self.isConvertible = isConvertible\n",
    "\n",
    "        def printCar(self):\n",
    "            print(\"Color :\" ,self.color)\n",
    "            print(\"MaxSpeed :\",self.getMaxSpeed()) # accessing private variable of parent class in child class\n",
    "            print(\"NumGears :\",self.numGears)\n",
    "            print(\"IsConvertible :\", self.isConvertible)\n",
    "\n",
    "\n",
    "c = Car(\"red\",15,3,False)\n",
    "c.printCar()"
   ]
  },
  {
   "cell_type": "code",
   "execution_count": null,
   "metadata": {},
   "outputs": [],
   "source": [
    "#Accessing the methods from parent class to child class"
   ]
  },
  {
   "cell_type": "code",
   "execution_count": 3,
   "metadata": {},
   "outputs": [
    {
     "name": "stdout",
     "output_type": "stream",
     "text": [
      "Color : red\n",
      "MaxSpeed : 15\n",
      "NumGears : 3\n",
      "IsConvertible : False\n"
     ]
    }
   ],
   "source": [
    "\n",
    "\n",
    "class Vehicle:\n",
    "\n",
    "    def __init__(self,color,maxSpeed):\n",
    "        self.color = color\n",
    "        self.__maxSpeed = maxSpeed\n",
    "\n",
    "    def getMaxSpeed(self):\n",
    "        return self.__maxSpeed\n",
    "\n",
    "    def setMaxSpeed(self,maxSpeed):\n",
    "        self.__maxSpeed = maxSpeed\n",
    "\n",
    "    def print(self):\n",
    "        print(\"Color :\" ,self.color)\n",
    "        print(\"MaxSpeed :\",self.__maxSpeed)\n",
    "\n",
    "    class Car(Vehicle):\n",
    "\n",
    "        def __init__(self,color,maxSpeed,numGears,isConvertible):\n",
    "\n",
    "            super().__init__(color,maxSpeed)\n",
    "            self.numGears = numGears\n",
    "            self.isConvertible = isConvertible\n",
    "\n",
    "        def printCar(self):\n",
    "            super().print() # we can access using super() \n",
    "            #self.print() # or we can also access using self\n",
    "            print(\"NumGears :\",self.numGears)\n",
    "            print(\"IsConvertible :\", self.isConvertible)\n",
    "\n",
    "\n",
    "c = Car(\"red\",15,3,False)\n",
    "c.printCar()"
   ]
  },
  {
   "cell_type": "markdown",
   "metadata": {},
   "source": [
    "- Plymorphism : Ability to take multiple forms"
   ]
  },
  {
   "cell_type": "markdown",
   "metadata": {},
   "source": [
    "-- Also known as method overriding"
   ]
  },
  {
   "cell_type": "code",
   "execution_count": 9,
   "metadata": {},
   "outputs": [
    {
     "name": "stdout",
     "output_type": "stream",
     "text": [
      "black 5\n"
     ]
    }
   ],
   "source": [
    "class Vehicle:\n",
    "    def __init__(self,color):\n",
    "        self.color = color\n",
    "    def print(self):\n",
    "        print(self.color,end='')\n",
    "class Car(Vehicle):\n",
    "    def __init__(self,color,numGears):\n",
    "        super().__init__(color)\n",
    "        self.numGears = numGears\n",
    "    def print(self):\n",
    "       print(self.color,end=' ' )\n",
    "       print(self.numGears)\n",
    "b = Car('black',5)\n",
    "b.print()"
   ]
  },
  {
   "cell_type": "code",
   "execution_count": 12,
   "metadata": {},
   "outputs": [
    {
     "name": "stdout",
     "output_type": "stream",
     "text": [
      "Name of child is Ajay\n",
      "[<class '__main__.Child'>, <class '__main__.Mother'>, <class '__main__.Father'>, <class 'object'>]\n"
     ]
    }
   ],
   "source": [
    "class Mother:\n",
    "\n",
    "# \tdef __init__(self):\n",
    "# \t\tself.name = \"Manju\"\n",
    "# \t\tsuper().__init__()\n",
    "\n",
    "\tdef print(self):\n",
    "\n",
    "\t\tprint(\"Print Of Mother called\")\n",
    "\n",
    "class Father:\n",
    "\n",
    "\tdef __init__(self):\n",
    "\t\tself.name = \"Ajay\"\n",
    "# \t\tsuper().__init__()\n",
    "\tdef print(self):\n",
    "\n",
    "\t\tprint(\"Print Of Father called\")\n",
    "\n",
    "class Child(Mother,Father):\n",
    "\n",
    "\tdef __init__(self):\n",
    "\t\tsuper().__init__()\n",
    "\n",
    "\tdef print(self):\n",
    "\t\tprint(\"Name of child is\", self.name)\n",
    "\n",
    "c = Child()\n",
    "c.print()\n",
    "print(Child.mro())"
   ]
  },
  {
   "cell_type": "markdown",
   "metadata": {},
   "source": [
    "- Operator overloading"
   ]
  },
  {
   "cell_type": "code",
   "execution_count": 27,
   "metadata": {},
   "outputs": [
    {
     "name": "stdout",
     "output_type": "stream",
     "text": [
      "This point is at (4,6)\n",
      "True\n",
      "False\n"
     ]
    }
   ],
   "source": [
    "import math\n",
    "\n",
    "class Point:\n",
    "    def __init__(self,x,y):\n",
    "        self.__x = x\n",
    "        self.__y = y\n",
    "    def __str__(self):\n",
    "        return \"This point is at (\"+str(self.__x)+ \",\" +str(self.__y) +\")\"\n",
    "    \n",
    "    def __add__(self,point_object):\n",
    "        return Point(self.__x+point_object.__x,self.__y+point_object.__y)\n",
    "    \n",
    "    \n",
    "    def __lt__(self,point_object):\n",
    "        return math.sqrt(self.__x*2 + self.__y**2) < math.sqrt(point_object.__x**2 + point_object.__y**2)\n",
    "    \n",
    "    \n",
    "p1 = Point(1,2)\n",
    "p2 = Point(3,4)\n",
    "p3 = p1+p2\n",
    "print(p3)\n",
    "print(p1<p2)\n",
    "print(p2<p1)     "
   ]
  },
  {
   "cell_type": "code",
   "execution_count": null,
   "metadata": {},
   "outputs": [],
   "source": []
  }
 ],
 "metadata": {
  "kernelspec": {
   "display_name": "Python 3",
   "language": "python",
   "name": "python3"
  },
  "language_info": {
   "codemirror_mode": {
    "name": "ipython",
    "version": 3
   },
   "file_extension": ".py",
   "mimetype": "text/x-python",
   "name": "python",
   "nbconvert_exporter": "python",
   "pygments_lexer": "ipython3",
   "version": "3.8.3"
  }
 },
 "nbformat": 4,
 "nbformat_minor": 4
}
