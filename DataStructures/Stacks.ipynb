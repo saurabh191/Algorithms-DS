{
 "cells": [
  {
   "cell_type": "markdown",
   "metadata": {},
   "source": [
    "### Creating a stack using an List / Array"
   ]
  },
  {
   "cell_type": "code",
   "execution_count": 1,
   "metadata": {},
   "outputs": [],
   "source": [
    "class Stack:\n",
    "    def __init__(self):\n",
    "        self.__data = []\n",
    "        \n",
    "    def push(self,item):\n",
    "        self.__data.append(item)\n",
    "        \n",
    "    def pop(self,item):\n",
    "        if self.isEmpty():\n",
    "            print(\"Hey! Stack is Empty..\")\n",
    "            return\n",
    "        return self.__data.pop()\n",
    "        \n",
    "    def top(self,item):\n",
    "        if self.isEmpty():\n",
    "            print(\"Hey! Stack is Empty..\")\n",
    "            return\n",
    "        return self.__data[len(self.__data)-1]\n",
    "        \n",
    "    def size(self,item):\n",
    "        return self.__data[len(self.__data)-1]\n",
    "        \n",
    "    def isEmpty(self,item):\n",
    "        return self.size == 0\n",
    "        "
   ]
  },
  {
   "cell_type": "markdown",
   "metadata": {},
   "source": [
    "### Creating a stack using an Linked List"
   ]
  },
  {
   "cell_type": "code",
   "execution_count": 19,
   "metadata": {},
   "outputs": [],
   "source": [
    "class Node:\n",
    "\n",
    "    def __init__(self, data):\n",
    "        self.data = data\n",
    "        self.next = None\n",
    "\n",
    "\n",
    "class StackLL:\n",
    "\n",
    "    def __init__(self):\n",
    "        self.__head = None\n",
    "        self.__count = 0\n",
    "\n",
    "    '''----------------- Public Functions of Stack -----------------'''\n",
    "\n",
    "    def getSize(self):\n",
    "        return self.__count\n",
    "\n",
    "    def isEmpty(self):\n",
    "        # Implement the isEmpty() function\n",
    "        return self.getSize() == 0\n",
    "        \n",
    "\n",
    "    def push(self, data):\n",
    "        # Implement the push(element) function\n",
    "        NewNode = Node(data)\n",
    "        NewNode.next = self.__head\n",
    "        self.__head = NewNode\n",
    "        self.__count += 1\n",
    "\n",
    "    def pop(self):\n",
    "        # Implement the pop() function\n",
    "        if self.isEmpty():\n",
    "            # print(\"Hey! Stack is Empty!\")\n",
    "            return -1\n",
    "        data = self.__head.data\n",
    "        self.__head = self.__head.next\n",
    "        self.__count -= 1\n",
    "        return data\n",
    "\n",
    "    def top(self):\n",
    "        # Implement the top() function\n",
    "        if self.isEmpty():\n",
    "            # print(\"Hey! Stack is Empty!\")\n",
    "            return -1\n",
    "        data = self.__head.data\n",
    "        return data\n"
   ]
  },
  {
   "cell_type": "code",
   "execution_count": 20,
   "metadata": {},
   "outputs": [
    {
     "data": {
      "text/plain": [
       "25"
      ]
     },
     "execution_count": 20,
     "metadata": {},
     "output_type": "execute_result"
    }
   ],
   "source": [
    "s = StackLL()\n",
    "s.push(21)\n",
    "s.push(22)\n",
    "s.push(25)\n",
    "s.top()"
   ]
  },
  {
   "cell_type": "code",
   "execution_count": 21,
   "metadata": {},
   "outputs": [
    {
     "name": "stdout",
     "output_type": "stream",
     "text": [
      "25\n",
      "22\n",
      "21\n"
     ]
    }
   ],
   "source": [
    "while s.isEmpty() is False:\n",
    "    print(s.pop())"
   ]
  },
  {
   "cell_type": "markdown",
   "metadata": {},
   "source": [
    "### Stacks & Queue implementation using In-built library"
   ]
  },
  {
   "cell_type": "code",
   "execution_count": 27,
   "metadata": {},
   "outputs": [
    {
     "name": "stdout",
     "output_type": "stream",
     "text": [
      "1\n",
      "2\n",
      "3\n",
      "4\n",
      "5\n"
     ]
    }
   ],
   "source": [
    "import queue\n",
    "\n",
    "#Queue implementation\n",
    "\n",
    "q = queue.Queue()\n",
    "q.put(1)\n",
    "q.put(2)\n",
    "q.put(3)\n",
    "q.put(4)\n",
    "q.put(5)\n",
    "\n",
    "while not q.empty():\n",
    "    print(q.get())"
   ]
  },
  {
   "cell_type": "code",
   "execution_count": 28,
   "metadata": {},
   "outputs": [
    {
     "name": "stdout",
     "output_type": "stream",
     "text": [
      "15\n",
      "14\n",
      "13\n",
      "12\n",
      "11\n"
     ]
    }
   ],
   "source": [
    "\n",
    "#Stack implementation\n",
    "\n",
    "st = queue.LifoQueue()\n",
    "st.put(11)\n",
    "st.put(12)\n",
    "st.put(13)\n",
    "st.put(14)\n",
    "st.put(15)\n",
    "\n",
    "while not st.empty():\n",
    "    print(st.get())"
   ]
  },
  {
   "cell_type": "markdown",
   "metadata": {},
   "source": [
    "### Balanced Paranthesis\n"
   ]
  },
  {
   "cell_type": "code",
   "execution_count": 50,
   "metadata": {},
   "outputs": [
    {
     "name": "stderr",
     "output_type": "stream",
     "text": [
      "<>:9: SyntaxWarning: \"is\" with a literal. Did you mean \"==\"?\n",
      "<>:13: SyntaxWarning: \"is\" with a literal. Did you mean \"==\"?\n",
      "<>:17: SyntaxWarning: \"is\" with a literal. Did you mean \"==\"?\n",
      "<>:9: SyntaxWarning: \"is\" with a literal. Did you mean \"==\"?\n",
      "<>:13: SyntaxWarning: \"is\" with a literal. Did you mean \"==\"?\n",
      "<>:17: SyntaxWarning: \"is\" with a literal. Did you mean \"==\"?\n",
      "<ipython-input-50-b3825e63f554>:9: SyntaxWarning: \"is\" with a literal. Did you mean \"==\"?\n",
      "  elif char is ')':\n",
      "<ipython-input-50-b3825e63f554>:13: SyntaxWarning: \"is\" with a literal. Did you mean \"==\"?\n",
      "  elif char is ']':\n",
      "<ipython-input-50-b3825e63f554>:17: SyntaxWarning: \"is\" with a literal. Did you mean \"==\"?\n",
      "  elif char is '}':\n"
     ]
    },
    {
     "name": "stdout",
     "output_type": "stream",
     "text": [
      "((())){{[[]]}}\n",
      "true\n"
     ]
    }
   ],
   "source": [
    "\n",
    "from sys import stdin\n",
    "\n",
    "\n",
    "def isBalanced(expression) :\n",
    "    s = []\n",
    "    for char in expression:\n",
    "        if char in '([{':\n",
    "            s.append(char)\n",
    "        elif char is ')':\n",
    "            if not s or s[-1] != '(':\n",
    "                return False\n",
    "            s.pop()\n",
    "        elif char is ']':\n",
    "            if not s or s[-1] != '[':\n",
    "                return False\n",
    "            s.pop()          \n",
    "        elif char is '}':\n",
    "            if not s or s[-1] != '{':\n",
    "                return False\n",
    "            s.pop()\n",
    "    if not s:\n",
    "        return True\n",
    "    else:\n",
    "        return False\n",
    "\n",
    "#main\n",
    "expression = input().strip()\n",
    "\n",
    "if isBalanced(expression) :\n",
    "\tprint(\"true\")\n",
    "\n",
    "else :\n",
    "\tprint(\"false\")\n"
   ]
  },
  {
   "cell_type": "markdown",
   "metadata": {},
   "source": [
    "### Reversing a Stack using another Stack"
   ]
  },
  {
   "cell_type": "code",
   "execution_count": 64,
   "metadata": {},
   "outputs": [],
   "source": [
    "def reverseStack(s1,s2):\n",
    "    if len(s1) <= 1:\n",
    "        return\n",
    "    \n",
    "    while len(s1) != 1:\n",
    "        ele = s1.pop()\n",
    "        s2.append(ele)\n",
    "        \n",
    "    lastelement = s1.pop()\n",
    "    \n",
    "    while len(s2) != 0:\n",
    "        ele = s2.pop()\n",
    "        s1.append(ele)\n",
    "        \n",
    "    reverseStack(s1,s2)\n",
    "    s1.append(lastelement)\n",
    "    "
   ]
  },
  {
   "cell_type": "code",
   "execution_count": 66,
   "metadata": {},
   "outputs": [
    {
     "name": "stdout",
     "output_type": "stream",
     "text": [
      "1 2 3 4 5\n",
      "1 2 3 4 5 "
     ]
    }
   ],
   "source": [
    "# Main\n",
    "inputStack = [int(ele) for ele in input().split()]\n",
    "emptyStack = list()\n",
    "\n",
    "reverseStack(inputStack, emptyStack)\n",
    "\n",
    "while len(inputStack) != 0 :\n",
    "\tprint(inputStack.pop(), end = \" \")"
   ]
  },
  {
   "cell_type": "markdown",
   "metadata": {},
   "source": [
    "## Assignments"
   ]
  },
  {
   "cell_type": "markdown",
   "metadata": {},
   "source": [
    "```\n",
    "Check redundant brackets\n",
    "Send Feedback\n",
    "For a given expression in the form of a string, find if there exist any redundant brackets or not. It is given that the expression contains only rounded brackets or parenthesis and the input expression will always be balanced.\n",
    "A pair of the bracket is said to be redundant when a sub-expression is surrounded by unnecessary or needless brackets.\n",
    "Example:\n",
    "Expression: (a+b)+c\n",
    "Since there are no needless brackets, hence, the output must be 'false'.\n",
    "\n",
    "Expression: ((a+b))\n",
    "The expression can be reduced to (a+b). Hence the expression has redundant brackets and the output will be 'true'.\n",
    "Note:\n",
    "You will not get a partial score for this problem. You will get marks only if all the test cases are passed.\n",
    "Input Format :\n",
    "The first and the only line of input contains a string expression, without any spaces in between.\n",
    "Output Format :\n",
    "The first and the only line of output will print either 'true' or 'false'(without the quotes) denoting whether the input expression contains redundant brackets or not.\n",
    "Note:\n",
    "You are not required to print the expected result. It has already been taken care of.\n",
    "Constraints:\n",
    "0 <= N <= 10^6\n",
    "Where N is the length of the expression.\n",
    "\n",
    "Time Limit: 1 second\n",
    "Sample Input 1:\n",
    "a+(b)+c \n",
    "Sample Output 1:\n",
    "true\n",
    "Explanation:\n",
    "The expression can be reduced to a+b+c. Hence, the brackets are redundant.\n",
    "Sample Input 2:\n",
    "(a+b)\n",
    "Sample Output 2:\n",
    "false\n",
    "```"
   ]
  },
  {
   "cell_type": "code",
   "execution_count": null,
   "metadata": {},
   "outputs": [],
   "source": [
    "\n",
    "from sys import stdin\n",
    "\n",
    "def checkRedundantBrackets(expression) :\n",
    "\n",
    "\n",
    "\n",
    "#main\n",
    "expression = stdin.readline().strip()\n",
    "\n",
    "if checkRedundantBrackets(expression) :\n",
    "\tprint(\"true\")\n",
    "\n",
    "else :\n",
    "\tprint(\"false\")\n"
   ]
  },
  {
   "cell_type": "markdown",
   "metadata": {},
   "source": [
    "### Stock Span"
   ]
  },
  {
   "cell_type": "markdown",
   "metadata": {},
   "source": [
    "```\n",
    "Afzal has been working with an organization called 'Money Traders' for the past few years. The organization is into the money trading business. His manager assigned him a task. For a given array/list of stock's prices for N days, find the stock's span for each day.\n",
    "The span of the stock's price today is defined as the maximum number of consecutive days(starting from today and going backwards) for which the price of the stock was less than today's price.\n",
    "For example, if the price of a stock over a period of 7 days are [100, 80, 60, 70, 60, 75, 85], then the stock spans will be [1, 1, 1, 2, 1, 4, 6].\n",
    "Explanation:\n",
    "On the sixth day when the price of the stock was 75, the span came out to be 4, because the last 4 prices(including the current price of 75) were less than the current or the sixth day's price.\n",
    "\n",
    "Similarly, we can deduce the remaining results.\n",
    "Afzal has to return an array/list of spans corresponding to each day's stock's price. Help him to achieve the task.\n",
    "Input Format:\n",
    "The first line of input contains an integer N, denoting the total number of days.\n",
    "\n",
    "The second line of input contains the stock prices of each day. A single space will separate them.\n",
    "Output Format:\n",
    "The only line of output will print the span for each day's stock price. A single space will separate them.\n",
    "Note:\n",
    "You are not required to print the expected output explicitly. It has already been taken care of. \n",
    "Constraints:\n",
    "0 <= N <= 10^7\n",
    "1 <= X <= 10^9\n",
    "Where X denotes the stock's price for a day.\n",
    "\n",
    "Time Limit: 1 second\n",
    "Sample Input 1:\n",
    "4\n",
    "10 10 10 10\n",
    "Sample Output 1:\n",
    "1 1 1 1 \n",
    "Sample Input 2:\n",
    "8\n",
    "60 70 80 100 90 75 80 120\n",
    "Sample Output 2:\n",
    "1 2 3 4 1 1 2 8 \n",
    "```"
   ]
  },
  {
   "cell_type": "code",
   "execution_count": null,
   "metadata": {},
   "outputs": [],
   "source": [
    "\n",
    "from sys import stdin\n",
    "\n",
    "def stockSpan(price, n) :\n",
    "\t#Your code goes here\n",
    "\n",
    "\n",
    "\n",
    "\n",
    "\n",
    "\n",
    "\n",
    "\n",
    "\n",
    "\n",
    "\n",
    "\n",
    "\n",
    "\n",
    "\n",
    "\n",
    "\n",
    "\n",
    "\n",
    "\n",
    "\n",
    "\n",
    "\n",
    "\n",
    "\n",
    "\n",
    "\n",
    "\n",
    "\n",
    "\n",
    "\n",
    "\n",
    "\n",
    "\n",
    "'''-------------- Utility Functions --------------'''\n",
    "\n",
    "\n",
    "\n",
    "\n",
    "def printList(arr) :\n",
    "\tfor i in range(len(arr)) :\n",
    "\t\tprint(arr[i], end = \" \")\n",
    "\n",
    "\tprint()\n",
    "\n",
    "\n",
    "def takeInput():\n",
    "\tsize = int(stdin.readline().strip())\n",
    "\n",
    "\tif size == 0 :\n",
    "\t\treturn list(), 0\n",
    "\n",
    "\tprice = list(map(int, stdin.readline().strip().split(\" \")))\n",
    "\n",
    "\treturn price, size\n",
    "\n",
    "\n",
    "#main\n",
    "price, n = takeInput()\n",
    "\n",
    "output = stockSpan(price, n)\n",
    "printList(output)\n"
   ]
  },
  {
   "cell_type": "markdown",
   "metadata": {},
   "source": [
    "### Minimum bracket Reversal"
   ]
  },
  {
   "cell_type": "markdown",
   "metadata": {},
   "source": [
    "```\n",
    "Minimum bracket Reversal\n",
    "Send Feedback\n",
    "For a given expression in the form of a string, find the minimum number of brackets that can be reversed in order to make the expression balanced. The expression will only contain curly brackets.\n",
    "If the expression can't be balanced, return -1.\n",
    "Example:\n",
    "Expression: {{{{\n",
    "If we reverse the second and the fourth opening brackets, the whole expression will get balanced. Since we have to reverse two brackets to make the expression balanced, the expected output will be 2.\n",
    "\n",
    "Expression: {{{\n",
    "In this example, even if we reverse the last opening bracket, we would be left with the first opening bracket and hence will not be able to make the expression balanced and the output will be -1.\n",
    "Input Format :\n",
    "The first and the only line of input contains a string expression, without any spaces in between.\n",
    "Output Format :\n",
    "The only line of output will print the number of reversals required to balance the whole expression. Prints -1, otherwise.\n",
    "Note:\n",
    "You don't have to print anything. It has already been taken care of.\n",
    "Constraints:\n",
    "0 <= N <= 10^6\n",
    "Where N is the length of the expression.\n",
    "\n",
    "Time Limit: 1sec\n",
    "Sample Input 1:\n",
    "{{{\n",
    "Sample Output 1:\n",
    "-1\n",
    "Sample Input 2:\n",
    "{{{{}}\n",
    "Sample Output 2:\n",
    "1\n",
    "  ```"
   ]
  },
  {
   "cell_type": "code",
   "execution_count": null,
   "metadata": {},
   "outputs": [],
   "source": [
    "\n",
    "from sys import stdin\n",
    "\n",
    "def countBracketReversals(inputString) :\n",
    "    # Your code goes here\n",
    "\n",
    "\n",
    "\n",
    "\n",
    "\n",
    "\n",
    "\n",
    "\n",
    "\n",
    "\n",
    "\n",
    "\n",
    "\n",
    "\n",
    "\n",
    "\n",
    "\n",
    "\n",
    "\n",
    "\n",
    "\n",
    "\n",
    "\n",
    "\n",
    "\n",
    "\n",
    "\n",
    "\n",
    "\n",
    "\n",
    "#main\n",
    "print(countBracketReversals(stdin.readline().strip()))\n"
   ]
  }
 ],
 "metadata": {
  "kernelspec": {
   "display_name": "Python 3",
   "language": "python",
   "name": "python3"
  },
  "language_info": {
   "codemirror_mode": {
    "name": "ipython",
    "version": 3
   },
   "file_extension": ".py",
   "mimetype": "text/x-python",
   "name": "python",
   "nbconvert_exporter": "python",
   "pygments_lexer": "ipython3",
   "version": "3.8.3"
  }
 },
 "nbformat": 4,
 "nbformat_minor": 4
}
