{
 "cells": [
  {
   "cell_type": "markdown",
   "metadata": {},
   "source": [
    "- Replace all occurance of one char with another char in a string"
   ]
  },
  {
   "cell_type": "code",
   "execution_count": 2,
   "metadata": {},
   "outputs": [],
   "source": [
    "def replaceChar(s,a,b):\n",
    "    if len(s) == 0:\n",
    "        return s\n",
    "    smallOutput = replaceChar(s[1:],a,b)\n",
    "    if s[0] == a:\n",
    "        return b+smallOutput\n",
    "    else:\n",
    "        return s[0]+smallOutput\n",
    "    "
   ]
  },
  {
   "cell_type": "code",
   "execution_count": 3,
   "metadata": {},
   "outputs": [
    {
     "data": {
      "text/plain": [
       "'daxxdxxd'"
      ]
     },
     "execution_count": 3,
     "metadata": {},
     "output_type": "execute_result"
    }
   ],
   "source": [
    "replaceChar('dacxdxcd','c','x')"
   ]
  },
  {
   "cell_type": "markdown",
   "metadata": {},
   "source": [
    "- Remove all occurance of 'x char with in a string"
   ]
  },
  {
   "cell_type": "code",
   "execution_count": 11,
   "metadata": {},
   "outputs": [
    {
     "name": "stdout",
     "output_type": "stream",
     "text": [
      "daxxdxxd\n",
      "dadd\n"
     ]
    }
   ],
   "source": [
    "def removeX(string):\n",
    "    if len(string) == 0:\n",
    "        return string\n",
    "    smallOutput = removeX(string[1:])\n",
    "    if string[0] == 'x':\n",
    "        return smallOutput\n",
    "    else:\n",
    "        return string[0]+smallOutput\n",
    "    \n",
    "    \n",
    "# Main\n",
    "string = input()\n",
    "print(removeX(string))"
   ]
  },
  {
   "cell_type": "markdown",
   "metadata": {},
   "source": [
    "- Replace all occurances of wotd 'pi' with '3.14'"
   ]
  },
  {
   "cell_type": "code",
   "execution_count": 1,
   "metadata": {},
   "outputs": [],
   "source": [
    "def replacePi(string):\n",
    "    if len(string)==0 or len(string)==1:\n",
    "        return string\n",
    "    if string[0]=='p' and string[1]=='i':\n",
    "        return '3.14'+replacePi(string[2:])\n",
    "    else:\n",
    "        return string[0]+replacePi(string[1:])"
   ]
  },
  {
   "cell_type": "code",
   "execution_count": 2,
   "metadata": {},
   "outputs": [
    {
     "data": {
      "text/plain": [
       "'p3.14'"
      ]
     },
     "execution_count": 2,
     "metadata": {},
     "output_type": "execute_result"
    }
   ],
   "source": [
    "replacePi('ppi')"
   ]
  },
  {
   "cell_type": "markdown",
   "metadata": {},
   "source": [
    "- Remove Consecutive Duplicates Recursively from a given string"
   ]
  },
  {
   "cell_type": "code",
   "execution_count": 18,
   "metadata": {},
   "outputs": [
    {
     "name": "stdout",
     "output_type": "stream",
     "text": [
      "aabccba\n",
      "abcba\n"
     ]
    }
   ],
   "source": [
    "def removeConsecutiveDuplicates(string):\n",
    "    if len(string) == 0 or len(string) == 1:\n",
    "        return string\n",
    "    if string[0] == string[1]:\n",
    "        return removeConsecutiveDuplicates(string[1:])\n",
    "    else:\n",
    "        return string[0]+removeConsecutiveDuplicates(string[1:])\n",
    "\n",
    "# Main\n",
    "string = input().strip()\n",
    "print(removeConsecutiveDuplicates(string))\n"
   ]
  },
  {
   "cell_type": "markdown",
   "metadata": {},
   "source": [
    "- Binary search implementation using recursion"
   ]
  },
  {
   "cell_type": "code",
   "execution_count": 1,
   "metadata": {},
   "outputs": [],
   "source": [
    "def binarysearch(s,x,si,ei):\n",
    "    if si > ei:\n",
    "        return -1\n",
    "    mid = (si+ei)//2\n",
    "    if s[mid] == x:\n",
    "        return mid\n",
    "    elif s[mid] > x:\n",
    "        return binarysearch(s,x,si,mid-1)\n",
    "    else:\n",
    "        return binarysearch(s,x,mid+1,ei)"
   ]
  },
  {
   "cell_type": "code",
   "execution_count": 2,
   "metadata": {},
   "outputs": [
    {
     "data": {
      "text/plain": [
       "8"
      ]
     },
     "execution_count": 2,
     "metadata": {},
     "output_type": "execute_result"
    }
   ],
   "source": [
    "binarysearch([1,2,3,4,5,6,7,8,9,11,12,13,14],9,0,13)"
   ]
  },
  {
   "cell_type": "markdown",
   "metadata": {},
   "source": [
    "- Merge sort implementation using recursion"
   ]
  },
  {
   "cell_type": "code",
   "execution_count": 5,
   "metadata": {},
   "outputs": [
    {
     "name": "stdout",
     "output_type": "stream",
     "text": [
      "10\n",
      "9 1 5 2 8 7 4 1 0 6\n",
      "[0, 1, 1, 2, 4, 5, 6, 7, 8, 9]\n"
     ]
    }
   ],
   "source": [
    "def merge(arr1,arr2,arr):\n",
    "    i = 0\n",
    "    j = 0\n",
    "    k = 0\n",
    "    while i < len(arr1) and j < len(arr2):\n",
    "        if arr1[i] < arr2[j]:\n",
    "            arr[k] = arr1[i]\n",
    "            i+=1\n",
    "            k+=1\n",
    "        else:\n",
    "            arr[k] = arr2[j]\n",
    "            j+=1\n",
    "            k+=1\n",
    "    while i < len(arr1):\n",
    "        arr[k] = arr1[i]\n",
    "        i+=1\n",
    "        k+=1\n",
    "    while j < len(arr2):\n",
    "        arr[k] = arr2[j]\n",
    "        j+=1\n",
    "        k+=1\n",
    "        \n",
    "    \n",
    "def mergeSort(arr):\n",
    "    if len(arr) == 0 or len(arr) == 1:\n",
    "        return\n",
    "    mid = len(arr)//2\n",
    "    arr1 = arr[0:mid]\n",
    "    arr2 = arr[mid:]\n",
    "    mergeSort(arr1)\n",
    "    mergeSort(arr2)\n",
    "    merge(arr1,arr2,arr)\n",
    "\n",
    "# Main\n",
    "n=int(input())\n",
    "arr=list(int(i) for i in input().strip().split(' '))\n",
    "mergeSort(arr)\n",
    "print(arr)\n"
   ]
  },
  {
   "cell_type": "markdown",
   "metadata": {},
   "source": [
    "- Quick sort implementation using recursion"
   ]
  },
  {
   "cell_type": "code",
   "execution_count": 1,
   "metadata": {},
   "outputs": [
    {
     "name": "stdout",
     "output_type": "stream",
     "text": [
      "8\n",
      "6 2 1 4 8 9 10 12\n",
      "1 2 4 6 8 9 10 12\n"
     ]
    }
   ],
   "source": [
    "def partition(arr,si,ei):\n",
    "    count = 0\n",
    "    pivot = arr[si]\n",
    "    for i in range(si,ei+1):\n",
    "        if arr[i] < pivot:\n",
    "            count+=1\n",
    "    arr[si],arr[count+si] = arr[count+si],arr[si]\n",
    "    pivot_index=count+si   \n",
    "    i = si\n",
    "    j = ei\n",
    "    while i < j:\n",
    "        if arr[i] < pivot:\n",
    "            i+=1\n",
    "        elif arr[j] >= pivot:\n",
    "            j-=1\n",
    "        else:\n",
    "            arr[i],arr[j] = arr[j],arr[i]\n",
    "            i+=1\n",
    "            j-=1\n",
    "    return pivot_index\n",
    "\n",
    "def quickSort(arr, start, end):\n",
    "    if start >= end:\n",
    "        return\n",
    "    pivot_index = partition(arr,start,end)\n",
    "    quickSort(arr,start,pivot_index-1)\n",
    "    quickSort(arr,pivot_index+1,end)\n",
    "    \n",
    "\n",
    "n=int(input())\n",
    "arr=list(int(i) for i in input().strip().split(' '))\n",
    "quickSort(arr, 0, n-1)\n",
    "print(*arr)"
   ]
  },
  {
   "cell_type": "code",
   "execution_count": 21,
   "metadata": {},
   "outputs": [
    {
     "name": "stdout",
     "output_type": "stream",
     "text": [
      "5\n"
     ]
    },
    {
     "data": {
      "text/plain": [
       "[2, 6, 8, 1, 4, 9, 10]"
      ]
     },
     "execution_count": 21,
     "metadata": {},
     "output_type": "execute_result"
    }
   ],
   "source": [
    "a=[9,6,8,1,4,10,2]\n",
    "print(partition(a,0,len(a)-1))\n",
    "a"
   ]
  },
  {
   "cell_type": "markdown",
   "metadata": {},
   "source": [
    "- Tower of Hanoi using recursion"
   ]
  },
  {
   "cell_type": "code",
   "execution_count": 10,
   "metadata": {},
   "outputs": [
    {
     "name": "stdout",
     "output_type": "stream",
     "text": [
      "0\n"
     ]
    }
   ],
   "source": [
    "def towerofhanoi(n, source, aux, dest):\n",
    "    if n==0:\n",
    "        return\n",
    "    if n==1:\n",
    "        print(source+ ' '+dest)\n",
    "        return\n",
    "    towerofhanoi(n-1,source,dest,aux)\n",
    "    print(source+ ' '+dest)\n",
    "    towerofhanoi(n-1,aux,source,dest)\n",
    "\n",
    "n=int(input())\n",
    "towerofhanoi(n, 'a', 'b', 'c')"
   ]
  },
  {
   "cell_type": "code",
   "execution_count": 3,
   "metadata": {},
   "outputs": [
    {
     "name": "stdout",
     "output_type": "stream",
     "text": [
      "8\n",
      "6 2 1 4 8 9 10 12\n",
      "1 2 4 6 8 9 10 12\n"
     ]
    }
   ],
   "source": [
    "def Partition(arr,start,end):\n",
    "    pivot = arr[start]\n",
    "    count = 0\n",
    "    for i in range(start,end+1):\n",
    "        if arr[i] < pivot:\n",
    "            count+=1\n",
    "    PI = start+count\n",
    "    arr[start],arr[count+start] = arr[count+start],arr[start]\n",
    "    i=start\n",
    "    j=end\n",
    "    while i<j:\n",
    "        if arr[i]<pivot:\n",
    "            i+=1\n",
    "        elif arr[j]>pivot:\n",
    "            j-=1\n",
    "        else:\n",
    "            arr[i],arr[j]=arr[j],arr[i]\n",
    "            i+=1\n",
    "            j-=1\n",
    "    return PI\n",
    "\n",
    "def sortArray(arr,start,end):\n",
    "#     start = 0\n",
    "#     end = len(arr)-1\n",
    "    if start >= end:\n",
    "        return\n",
    "    pivot_index = Partition(arr,start,end)\n",
    "    sortArray(arr,start,pivot_index-1)\n",
    "    sortArray(arr,pivot_index+1,end)\n",
    "\n",
    "n=int(input())\n",
    "arr=list(int(i) for i in input().strip().split(' '))\n",
    "sortArray(arr, 0, n-1)\n",
    "print(*arr)"
   ]
  },
  {
   "cell_type": "code",
   "execution_count": 4,
   "metadata": {},
   "outputs": [
    {
     "name": "stdout",
     "output_type": "stream",
     "text": [
      "5\n"
     ]
    },
    {
     "data": {
      "text/plain": [
       "[2, 6, 8, 1, 4, 9, 10]"
      ]
     },
     "execution_count": 4,
     "metadata": {},
     "output_type": "execute_result"
    }
   ],
   "source": [
    "a=[9,6,8,1,4,10,2]\n",
    "print(Partition(a,0,len(a)-1))\n",
    "a"
   ]
  },
  {
   "cell_type": "code",
   "execution_count": null,
   "metadata": {},
   "outputs": [],
   "source": []
  }
 ],
 "metadata": {
  "kernelspec": {
   "display_name": "Python 3",
   "language": "python",
   "name": "python3"
  },
  "language_info": {
   "codemirror_mode": {
    "name": "ipython",
    "version": 3
   },
   "file_extension": ".py",
   "mimetype": "text/x-python",
   "name": "python",
   "nbconvert_exporter": "python",
   "pygments_lexer": "ipython3",
   "version": "3.8.3"
  }
 },
 "nbformat": 4,
 "nbformat_minor": 4
}
