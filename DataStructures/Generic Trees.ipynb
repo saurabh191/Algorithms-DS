{
 "cells": [
  {
   "cell_type": "markdown",
   "metadata": {},
   "source": [
    "### Create Node for Generic Tree"
   ]
  },
  {
   "cell_type": "code",
   "execution_count": 1,
   "metadata": {},
   "outputs": [],
   "source": [
    "class TreeNode:\n",
    "    def __init__(self,data):\n",
    "        self.data = data\n",
    "        self.children = list()"
   ]
  },
  {
   "cell_type": "markdown",
   "metadata": {},
   "source": [
    "### Print Generic Tree"
   ]
  },
  {
   "cell_type": "code",
   "execution_count": 2,
   "metadata": {},
   "outputs": [],
   "source": [
    "def printTree(root):\n",
    "    if root is None:\n",
    "        return \n",
    "    print(root.data)\n",
    "    for child in root.children:\n",
    "        printTree(child)"
   ]
  },
  {
   "cell_type": "code",
   "execution_count": 3,
   "metadata": {},
   "outputs": [],
   "source": [
    "n1 = TreeNode(5)\n",
    "n2 = TreeNode(2)\n",
    "n3 = TreeNode(9)\n",
    "n4 = TreeNode(8)\n",
    "n5 = TreeNode(7)\n",
    "n6 = TreeNode(15)\n",
    "n7 = TreeNode(1)\n",
    "\n",
    "n1.children.append(n2)\n",
    "n1.children.append(n3)\n",
    "n1.children.append(n4)\n",
    "n1.children.append(n5)\n",
    "\n",
    "n3.children.append(n6)\n",
    "n3.children.append(n7)"
   ]
  },
  {
   "cell_type": "code",
   "execution_count": 4,
   "metadata": {},
   "outputs": [
    {
     "name": "stdout",
     "output_type": "stream",
     "text": [
      "5\n",
      "2\n",
      "9\n",
      "15\n",
      "1\n",
      "8\n",
      "7\n"
     ]
    }
   ],
   "source": [
    "printTree(n1)"
   ]
  },
  {
   "cell_type": "markdown",
   "metadata": {},
   "source": [
    "### Print Generic Tree in detail"
   ]
  },
  {
   "cell_type": "code",
   "execution_count": null,
   "metadata": {},
   "outputs": [],
   "source": [
    "def printTreeDetailed(root):\n",
    "    if root is None:\n",
    "        return\n",
    "    print(root.data,\":\",end='')\n",
    "    for child in root.children:\n",
    "        print(child.data,',',end='')\n",
    "    print()\n",
    "    for child in root.children:\n",
    "        printTreeDetailed(child)"
   ]
  },
  {
   "cell_type": "code",
   "execution_count": null,
   "metadata": {},
   "outputs": [],
   "source": [
    "printTreeDetailed(n1)"
   ]
  },
  {
   "cell_type": "markdown",
   "metadata": {},
   "source": [
    "### Take Generic Tree input"
   ]
  },
  {
   "cell_type": "code",
   "execution_count": null,
   "metadata": {},
   "outputs": [],
   "source": [
    "def takeTreeInput():\n",
    "    print(\"Enter root data\")\n",
    "    rootData = int(input())\n",
    "    if rootData == -1:\n",
    "        return None\n",
    "    root = TreeNode(rootData)\n",
    "    print(\"Enter the number of children for \", rootData)\n",
    "    childrenCount = int(input())\n",
    "    for i in range(childrenCount):\n",
    "        child = takeTreeInput()\n",
    "        root.children.append(child)\n",
    "    return root\n",
    "        "
   ]
  },
  {
   "cell_type": "code",
   "execution_count": null,
   "metadata": {},
   "outputs": [],
   "source": [
    "root = takeTreeInput()\n",
    "printTreeDetailed(root)"
   ]
  },
  {
   "cell_type": "markdown",
   "metadata": {},
   "source": [
    "### Number of nodes in a Generic Tree"
   ]
  },
  {
   "cell_type": "code",
   "execution_count": null,
   "metadata": {},
   "outputs": [],
   "source": [
    "def numNodes(root):\n",
    "    if root is None:\n",
    "        return 0\n",
    "    count = 1\n",
    "    for child in root.children: ## This effectively becomes a base case since if there are no children, loop won't get executed\n",
    "        count = count+numNodes(child)\n",
    "    return count"
   ]
  },
  {
   "cell_type": "code",
   "execution_count": null,
   "metadata": {},
   "outputs": [],
   "source": [
    "root = takeTreeInput()\n",
    "printTreeDetailed(root)\n"
   ]
  },
  {
   "cell_type": "code",
   "execution_count": null,
   "metadata": {},
   "outputs": [],
   "source": [
    "print(numNodes(root))"
   ]
  },
  {
   "cell_type": "markdown",
   "metadata": {},
   "source": [
    "### Height of Generic Tree"
   ]
  },
  {
   "cell_type": "code",
   "execution_count": null,
   "metadata": {},
   "outputs": [],
   "source": [
    "def heightofTree(root):\n",
    "    if root is None:\n",
    "        return 0\n",
    "    height = 0\n",
    "    for child in root.children:\n",
    "        height = max(height,heightofTree(child))\n",
    "    return height + 1"
   ]
  },
  {
   "cell_type": "markdown",
   "metadata": {},
   "source": [
    "### Sum of all Nodes"
   ]
  },
  {
   "cell_type": "code",
   "execution_count": null,
   "metadata": {},
   "outputs": [],
   "source": [
    "def sumOfAllNodes(root):\n",
    "    if root is None:\n",
    "        return 0\n",
    "    sum = root.data\n",
    "    for child in root.children:\n",
    "        sum += sumOfAllNodes(child)\n",
    "    return sum"
   ]
  },
  {
   "cell_type": "markdown",
   "metadata": {},
   "source": [
    "### Node with Largest Data"
   ]
  },
  {
   "cell_type": "code",
   "execution_count": null,
   "metadata": {},
   "outputs": [],
   "source": [
    "def maxDataNode(root):\n",
    "    if root is None:\n",
    "        return None\n",
    "    maxm = -1\n",
    "    for child in root.children:\n",
    "        newMax = maxDataNode(child)\n",
    "        maxm = max(newMax,maxm)\n",
    "    maxm = max(root.data,maxm)\n",
    "    return maxm"
   ]
  },
  {
   "cell_type": "markdown",
   "metadata": {},
   "source": [
    "### Take Input Level-wise for Generic Tree"
   ]
  },
  {
   "cell_type": "code",
   "execution_count": null,
   "metadata": {},
   "outputs": [],
   "source": [
    "import queue\n",
    "def takeTreeInputLevelWise():\n",
    "    q = queue.Queue()\n",
    "    print(\"Enter the root\")\n",
    "    rootData = int(input())\n",
    "    if rootData == -1:\n",
    "        return None\n",
    "    root = TreeNode(rootData)\n",
    "    q.put(root)\n",
    "    while not q.empty():\n",
    "        currNode = q.get()\n",
    "        print(\"Enter number of children for \",currNode.data)\n",
    "        numChildren = int(input())\n",
    "        for i in range(numChildren):\n",
    "            print(\"Enter the next child for \", currNode.data)\n",
    "            childData = int(input())\n",
    "            child = TreeNode(childData)\n",
    "            currNode.children.append(child)\n",
    "            q.put(child)   "
   ]
  },
  {
   "cell_type": "code",
   "execution_count": null,
   "metadata": {},
   "outputs": [],
   "source": [
    "## code version from codezen used for all programs\n",
    "\n",
    "def createLevelWiseTree(arr):\n",
    "    root = treeNode(int(arr[0]))\n",
    "    q = [root]\n",
    "    size = len(arr)\n",
    "    i = 1\n",
    "    while i<size:\n",
    "        parent = q.pop(0)\n",
    "        childCount = int(arr[i])\n",
    "        i += 1\n",
    "        for j in range(0,childCount):\n",
    "            temp = treeNode(int(arr[i+j]))\n",
    "            parent.children.append(temp)\n",
    "            q.append(temp)\n",
    "        i += childCount\n",
    "    return root"
   ]
  },
  {
   "cell_type": "markdown",
   "metadata": {},
   "source": [
    "### Print Levelwise"
   ]
  },
  {
   "cell_type": "code",
   "execution_count": null,
   "metadata": {},
   "outputs": [],
   "source": [
    "##Approach-1\n",
    "import queue\n",
    "\n",
    "def printLevelWise(root):\n",
    "    q = queue.Queue()\n",
    "    if root is None:\n",
    "        return\n",
    "    q.put(root)\n",
    "    while not q.empty():\n",
    "        currData = q.get()\n",
    "        print(currData.data,',',end='')\n",
    "        for child in currData.children:\n",
    "            print(child.data,',',end='')\n",
    "            q.put(child)\n",
    "        print()"
   ]
  },
  {
   "cell_type": "code",
   "execution_count": null,
   "metadata": {},
   "outputs": [],
   "source": [
    "##Approach-2\n",
    "def printLevelWiseTree(root):\n",
    "    q = queue.Queue()\n",
    "    if root is None:\n",
    "        return\n",
    "    q.put(root)\n",
    "    while not q.empty():\n",
    "        currData = q.get()\n",
    "        print(str(currData.data)+':',end='')\n",
    "        for i in range(len(currData.children)):\n",
    "            if i != len(currData.children)-1:\n",
    "                print(currData.children[i].data,end=\",\")\n",
    "            else:\n",
    "                print(currData.children[i].data,end=\"\")\n",
    "            q.put(currData.children[i])\n",
    "        print()"
   ]
  },
  {
   "cell_type": "markdown",
   "metadata": {},
   "source": [
    "### Find element X in Generic Tree"
   ]
  },
  {
   "cell_type": "code",
   "execution_count": null,
   "metadata": {},
   "outputs": [],
   "source": [
    "def containsX(root, x):\n",
    "    if root is None:\n",
    "        return False\n",
    "    if root.data == x:\n",
    "        return True\n",
    "    for child in root.children:\n",
    "        res = containsX(child,x)\n",
    "        if res:\n",
    "            return True\n",
    "    return False"
   ]
  },
  {
   "cell_type": "markdown",
   "metadata": {},
   "source": [
    "### Count leaf Nodes in Generic Tree"
   ]
  },
  {
   "cell_type": "code",
   "execution_count": null,
   "metadata": {},
   "outputs": [],
   "source": [
    "def leafNodeCount(root):\n",
    "    if root is None:\n",
    "        return 0\n",
    "    count = 0\n",
    "    if len(root.children) == 0:\n",
    "        return 1\n",
    "    for child in root.children:\n",
    "        count += leafNodeCount(child)\n",
    "    return count"
   ]
  },
  {
   "cell_type": "markdown",
   "metadata": {},
   "source": [
    "### Node with maximum child sum in Generic Tree"
   ]
  },
  {
   "cell_type": "code",
   "execution_count": null,
   "metadata": {},
   "outputs": [],
   "source": [
    "## This needs to be fixed..currently not working\n",
    "def maxSumNode(root):\n",
    "    if root is None:\n",
    "        return\n",
    "    maxNode = maxNodeHelper(root)\n",
    "    maxValue = nodeImmediateSum(maxNode)\n",
    "    return maxNode,maxValue\n",
    "    \n",
    "def maxNodeHelper(root):\n",
    "    if root is None:\n",
    "        return\n",
    "    maxNode = root\n",
    "    maxValue = nodeImmediateSum(root)      \n",
    "    for child in root.children:\n",
    "        maxNode = maxNodeHelper(child)\n",
    "        newMaxSum = root.data +nodeImmediateSum(maxNode)\n",
    "        if newMaxSum > maxValue:\n",
    "            maxNode = child\n",
    "    return maxNode\n",
    "\n",
    "def nodeImmediateSum(root):\n",
    "    if root is None:\n",
    "        return 0\n",
    "    maxValue = 0\n",
    "    for child in root.children:\n",
    "        maxValue += child.data\n",
    "    return maxValue"
   ]
  },
  {
   "cell_type": "code",
   "execution_count": null,
   "metadata": {},
   "outputs": [],
   "source": [
    "## Approach-1\n",
    "def maxSumNode(tree):\n",
    "    if not tree:\n",
    "        return None\n",
    "    ans,ansSum=tree,tree.sum()\n",
    "    for child in tree.children:\n",
    "        temp,tempSum=maxSumNode(child)\n",
    "        if tempSum>ansSum:\n",
    "            ans,ansSum=temp,tempSum\n",
    "    return ans,ansSum"
   ]
  },
  {
   "cell_type": "code",
   "execution_count": null,
   "metadata": {},
   "outputs": [],
   "source": [
    "##Approach-2\n",
    "def maxSumUtil(root, resNode, maxsum): \n",
    "    if root == None: \n",
    "        return \n",
    "    currsum = root.data   \n",
    "    count = len(root.children)  \n",
    "    for i in range(0, count):  \n",
    "        currsum += root.children[i].data  \n",
    "        resNode, maxsum = maxSumUtil(root.children[i], \n",
    "                                     resNode, maxsum)  \n",
    "    if currsum > maxsum:   \n",
    "        resNode = root  \n",
    "        maxsum = currsum  \n",
    "      \n",
    "    return resNode, maxsum \n",
    " \n",
    "def maxSum(root):   \n",
    "    resNode, maxsum = None, 0\n",
    "    resNode, maxsum = maxSumUtil(root, resNode,  \n",
    "                                       maxsum)   \n",
    "    return resNode.data "
   ]
  },
  {
   "cell_type": "markdown",
   "metadata": {},
   "source": [
    "### Structurally identical nodes in two Generic Trees"
   ]
  },
  {
   "cell_type": "code",
   "execution_count": 5,
   "metadata": {},
   "outputs": [],
   "source": [
    "def isIdentical(tree1, tree2):\n",
    "    if tree1 is None or tree2 is None:\n",
    "        return False\n",
    "    if tree1.data != tree2.data:\n",
    "        return False\n",
    "    if len(tree1.children) == len(tree2.children):\n",
    "        for node in range(len(tree1.children)):\n",
    "            isChildIdentical = isIdentical(tree1.children[node],tree2.children[node])\n",
    "            if not isChildIdentical:\n",
    "                return False\n",
    "        return True"
   ]
  },
  {
   "cell_type": "markdown",
   "metadata": {},
   "source": [
    "### Next larger\n"
   ]
  },
  {
   "cell_type": "code",
   "execution_count": 6,
   "metadata": {},
   "outputs": [],
   "source": [
    "def nextLargest(tree,n):\n",
    "    if tree is None:\n",
    "        return None\n",
    "    if tree.data > n:\n",
    "        ans = tree\n",
    "    else:\n",
    "        ans = None\n",
    "    for child in tree.children:\n",
    "        newAns = nextLargest(child,n)\n",
    "        if ans is None:\n",
    "            ans = newAns\n",
    "        if newAns is None:\n",
    "            newAns = ans\n",
    "        if ans is not None and newAns is not None and newAns.data < ans.data:\n",
    "            ans = newAns\n",
    "    return ans"
   ]
  },
  {
   "cell_type": "code",
   "execution_count": 11,
   "metadata": {},
   "outputs": [],
   "source": [
    "def nextLargest(tree,n):\n",
    "    ans=None\n",
    "    if tree is None:\n",
    "        return None\n",
    "    if tree.data > n:\n",
    "        ans = tree\n",
    "    for child in tree.children:\n",
    "        temp=nextLargest(child,n)\n",
    "        if temp:\n",
    "            if (not ans) or ans.data>temp.data:\n",
    "                ans=temp\n",
    "    return ans"
   ]
  },
  {
   "cell_type": "markdown",
   "metadata": {},
   "source": [
    "### Replace with depth"
   ]
  },
  {
   "cell_type": "code",
   "execution_count": 10,
   "metadata": {},
   "outputs": [],
   "source": [
    "def replacewithDepth(tree):\n",
    "    if tree is None:\n",
    "        return None\n",
    "    return replacewithDepthHelper(tree,0)\n",
    "\n",
    "def replacewithDepthHelper(tree,depth):\n",
    "    if tree is None:\n",
    "        return\n",
    "    tree.data = depth\n",
    "    for child in tree.children:\n",
    "        replacewithDepthHelper(child,depth+1)\n",
    "    return tree"
   ]
  },
  {
   "cell_type": "code",
   "execution_count": null,
   "metadata": {},
   "outputs": [],
   "source": []
  }
 ],
 "metadata": {
  "kernelspec": {
   "display_name": "Python 3",
   "language": "python",
   "name": "python3"
  },
  "language_info": {
   "codemirror_mode": {
    "name": "ipython",
    "version": 3
   },
   "file_extension": ".py",
   "mimetype": "text/x-python",
   "name": "python",
   "nbconvert_exporter": "python",
   "pygments_lexer": "ipython3",
   "version": "3.8.3"
  }
 },
 "nbformat": 4,
 "nbformat_minor": 4
}
