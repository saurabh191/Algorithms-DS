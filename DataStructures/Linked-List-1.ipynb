{
 "cells": [
  {
   "cell_type": "markdown",
   "metadata": {},
   "source": [
    "### Creation of \"Node\" in Linked List"
   ]
  },
  {
   "cell_type": "code",
   "execution_count": 1,
   "metadata": {},
   "outputs": [],
   "source": [
    "class Node:\n",
    "    def __init__(self,data):\n",
    "        self.data =data\n",
    "        self.next = None"
   ]
  },
  {
   "cell_type": "code",
   "execution_count": 2,
   "metadata": {},
   "outputs": [],
   "source": [
    "a = Node(13)\n",
    "b = Node(14)\n",
    "a.next = b"
   ]
  },
  {
   "cell_type": "code",
   "execution_count": 3,
   "metadata": {},
   "outputs": [],
   "source": [
    "a = Node(None)"
   ]
  },
  {
   "cell_type": "code",
   "execution_count": 4,
   "metadata": {},
   "outputs": [],
   "source": [
    "a.data"
   ]
  },
  {
   "cell_type": "code",
   "execution_count": 13,
   "metadata": {},
   "outputs": [
    {
     "data": {
      "text/plain": [
       "14"
      ]
     },
     "execution_count": 13,
     "metadata": {},
     "output_type": "execute_result"
    }
   ],
   "source": [
    "b.data"
   ]
  },
  {
   "cell_type": "code",
   "execution_count": 14,
   "metadata": {},
   "outputs": [
    {
     "data": {
      "text/plain": [
       "14"
      ]
     },
     "execution_count": 14,
     "metadata": {},
     "output_type": "execute_result"
    }
   ],
   "source": [
    "a.next.data"
   ]
  },
  {
   "cell_type": "markdown",
   "metadata": {},
   "source": [
    "### Examples of Linked List"
   ]
  },
  {
   "cell_type": "markdown",
   "metadata": {},
   "source": [
    "- 1st example"
   ]
  },
  {
   "cell_type": "code",
   "execution_count": 15,
   "metadata": {},
   "outputs": [
    {
     "name": "stdout",
     "output_type": "stream",
     "text": [
      "20 10 "
     ]
    }
   ],
   "source": [
    "class Node:\n",
    "    def __init__(self, data):\n",
    "        self.data = data\n",
    "        self.next = None\n",
    "def printLL(head):\n",
    "    while head is not None:\n",
    "        print(head.data,end=\" \")\n",
    "        head = head.next\n",
    "\n",
    "\n",
    "\n",
    "node1 = Node(10)\n",
    "node2 = Node(20)\n",
    "node2.next = node1\n",
    "printLL(node2)"
   ]
  },
  {
   "cell_type": "markdown",
   "metadata": {},
   "source": [
    "- 2nd example"
   ]
  },
  {
   "cell_type": "code",
   "execution_count": 16,
   "metadata": {},
   "outputs": [
    {
     "name": "stdout",
     "output_type": "stream",
     "text": [
      "20 30 40 "
     ]
    }
   ],
   "source": [
    "class Node:\n",
    "    def __init__(self, data):\n",
    "        self.data = data\n",
    "        self.next = None\n",
    "def printLL(head):\n",
    "    while head is not None:\n",
    "        print(head.data,end=\" \")\n",
    "        head = head.next\n",
    "\n",
    "\n",
    "\n",
    "node1 = Node(10)\n",
    "node2 = Node(20)\n",
    "node3 = Node(30)\n",
    "node4 = Node(40)\n",
    "node1.next = node2\n",
    "node2.next = node3\n",
    "node3.next = node4\n",
    "printLL(node2)"
   ]
  },
  {
   "cell_type": "markdown",
   "metadata": {},
   "source": [
    "### Creating a Linked list"
   ]
  },
  {
   "cell_type": "code",
   "execution_count": 7,
   "metadata": {},
   "outputs": [
    {
     "name": "stdout",
     "output_type": "stream",
     "text": [
      "10 22 10 26 11 7 8 1 23 5 1 28 0 -1\n"
     ]
    }
   ],
   "source": [
    "class Node:\n",
    "    def __init__(self,data):\n",
    "        self.data =data\n",
    "        self.next = None\n",
    "\n",
    "def takeInput():\n",
    "    inputList = [int(i) for i in input().split()]\n",
    "    head = None\n",
    "    for currData in inputList:\n",
    "        if currData == -1:\n",
    "            break\n",
    "        newNode = Node(currData)\n",
    "        if head == None:\n",
    "            head = newNode\n",
    "        else: \n",
    "            curr = head\n",
    "            while curr.next is not None:\n",
    "                curr = curr.next\n",
    "            curr.next = newNode\n",
    "            \n",
    "    return head\n",
    "head = takeInput()"
   ]
  },
  {
   "cell_type": "code",
   "execution_count": 2,
   "metadata": {},
   "outputs": [
    {
     "name": "stdout",
     "output_type": "stream",
     "text": [
      "<__main__.Node object at 0x7fd06e920f40>\n"
     ]
    }
   ],
   "source": [
    "head.data\n",
    "print(head.next)"
   ]
  },
  {
   "cell_type": "markdown",
   "metadata": {},
   "source": [
    "### Printing a LinkedList"
   ]
  },
  {
   "cell_type": "code",
   "execution_count": 8,
   "metadata": {},
   "outputs": [],
   "source": [
    "def printLL(head):\n",
    "    while head.next is not None:\n",
    "        print(str(head.data)+'->',end='')\n",
    "        head = head.next\n",
    "    print(None)"
   ]
  },
  {
   "cell_type": "code",
   "execution_count": 9,
   "metadata": {},
   "outputs": [
    {
     "name": "stdout",
     "output_type": "stream",
     "text": [
      "10->22->10->26->11->7->8->1->23->5->1->28->None\n"
     ]
    }
   ],
   "source": [
    "printLL(head)"
   ]
  },
  {
   "cell_type": "markdown",
   "metadata": {},
   "source": [
    "### Optimized approach for creating a LinkedList"
   ]
  },
  {
   "cell_type": "code",
   "execution_count": 12,
   "metadata": {},
   "outputs": [
    {
     "name": "stdout",
     "output_type": "stream",
     "text": [
      "10 22 10 26 11 7 8 1 23 5 1 -1\n",
      "10->22->10->26->11->7->8->1->23->5->1->None\n"
     ]
    }
   ],
   "source": [
    "class Node:\n",
    "    def __init__(self,data):\n",
    "        self.data =data\n",
    "        self.next = None\n",
    "\n",
    "# Creating a LinkedList with O(n) time complexity\n",
    "\n",
    "def takeInput():\n",
    "    inputList = [int(i) for i in input().split()]\n",
    "    head = None\n",
    "    for currData in inputList:\n",
    "        if currData == -1:\n",
    "            break\n",
    "        newNode = Node(currData)\n",
    "        if head == None:\n",
    "            head = newNode\n",
    "            tail = newNode\n",
    "        else: \n",
    "            tail.next = newNode\n",
    "            tail = newNode\n",
    "            \n",
    "    return head\n",
    "\n",
    "# Print a LinkedList\n",
    "\n",
    "def printLL(head):\n",
    "    while head is not None:\n",
    "        print(str(head.data)+'->',end='')\n",
    "        head = head.next\n",
    "    print(None)\n",
    "    \n",
    "    \n",
    "head = takeInput()\n",
    "printLL(head)"
   ]
  },
  {
   "cell_type": "markdown",
   "metadata": {},
   "source": [
    "### Lenght of a LinkedList - Iterative approach"
   ]
  },
  {
   "cell_type": "code",
   "execution_count": 9,
   "metadata": {},
   "outputs": [],
   "source": [
    "# This is using the iterative approach\n",
    "\n",
    "def length(head) :\n",
    "    temp = head\n",
    "    count=0\n",
    "    while temp:\n",
    "        count+=1\n",
    "        temp = temp.next\n",
    "#         count+=1\n",
    "    return count"
   ]
  },
  {
   "cell_type": "code",
   "execution_count": 10,
   "metadata": {},
   "outputs": [
    {
     "data": {
      "text/plain": [
       "6"
      ]
     },
     "execution_count": 10,
     "metadata": {},
     "output_type": "execute_result"
    }
   ],
   "source": [
    "length(head)"
   ]
  },
  {
   "cell_type": "markdown",
   "metadata": {},
   "source": [
    "### Print ith node of a Linked List"
   ]
  },
  {
   "cell_type": "code",
   "execution_count": 37,
   "metadata": {},
   "outputs": [],
   "source": [
    "def printIthNode(head, i):\n",
    "    curr = head\n",
    "    count = 0\n",
    "    while curr:\n",
    "        if count == i:\n",
    "            print(curr.data)    \n",
    "        curr = curr.next\n",
    "        count+=1\n",
    "    return \n"
   ]
  },
  {
   "cell_type": "code",
   "execution_count": 38,
   "metadata": {},
   "outputs": [
    {
     "name": "stdout",
     "output_type": "stream",
     "text": [
      "4\n"
     ]
    }
   ],
   "source": [
    "printIthNode(head,0)"
   ]
  },
  {
   "cell_type": "markdown",
   "metadata": {},
   "source": [
    "### Insert element at Ith index - Iterative approach"
   ]
  },
  {
   "cell_type": "code",
   "execution_count": 42,
   "metadata": {},
   "outputs": [],
   "source": [
    "def insertAtIth(head,i,data):\n",
    "    if i < 0 or i > length(head):\n",
    "        return head\n",
    "    count = 0\n",
    "    curr = head\n",
    "    prev = None\n",
    "    while count<i:\n",
    "        prev = curr\n",
    "        curr = curr.next\n",
    "        count+=1\n",
    "    newNode = Node(data)\n",
    "    if prev is not None:\n",
    "        prev.next = newNode\n",
    "    else:\n",
    "        head = newNode\n",
    "    newNode.next = curr\n",
    "    return head\n",
    "    "
   ]
  },
  {
   "cell_type": "code",
   "execution_count": 47,
   "metadata": {},
   "outputs": [
    {
     "name": "stdout",
     "output_type": "stream",
     "text": [
      "4->4->7->8->3->36->8->17->26->89->12->12->12->12->7->7->None\n"
     ]
    }
   ],
   "source": [
    "insertAtIth(head,9,89)\n",
    "printLL(head)"
   ]
  },
  {
   "cell_type": "markdown",
   "metadata": {},
   "source": [
    "### Delete element at Nth node - Iterative approach"
   ]
  },
  {
   "cell_type": "code",
   "execution_count": 49,
   "metadata": {},
   "outputs": [],
   "source": [
    "def deleteNode(head, pos) :\n",
    "    if pos >= length(head):\n",
    "        return head\n",
    "    curr = head\n",
    "    prev = None\n",
    "    count = 0\n",
    "    while count < pos:\n",
    "        prev = curr\n",
    "        curr = curr.next\n",
    "        count+=1\n",
    "    if prev is not None:\n",
    "    \tprev.next = curr.next\n",
    "    else:\n",
    "        head = head.next\n",
    "    return head"
   ]
  },
  {
   "cell_type": "markdown",
   "metadata": {},
   "source": [
    "### Length of a LinkedList - Recursive approach"
   ]
  },
  {
   "cell_type": "code",
   "execution_count": 20,
   "metadata": {},
   "outputs": [],
   "source": [
    "def getCountRec(head): \n",
    "    if head is None: # Base case \n",
    "        return 0\n",
    "    else: \n",
    "        return 1 + getCountRec(head.next)"
   ]
  },
  {
   "cell_type": "code",
   "execution_count": 21,
   "metadata": {},
   "outputs": [
    {
     "data": {
      "text/plain": [
       "7"
      ]
     },
     "execution_count": 21,
     "metadata": {},
     "output_type": "execute_result"
    }
   ],
   "source": [
    "getCountRec(head)"
   ]
  },
  {
   "cell_type": "markdown",
   "metadata": {},
   "source": [
    "### Insert element at Ith index - Recursive approach"
   ]
  },
  {
   "cell_type": "code",
   "execution_count": 25,
   "metadata": {},
   "outputs": [],
   "source": [
    "def insertAtIRec(head,i,data):\n",
    "    if i < 0:\n",
    "        return head\n",
    "    \n",
    "    if i == 0:\n",
    "        newNode = Node(data)\n",
    "        newNode.next = head\n",
    "        return newNode\n",
    "    \n",
    "    if head is None:\n",
    "        return None\n",
    "    \n",
    "    smallHead = insertAtIRec(head.next,i-1,data)\n",
    "    head.next = smallHead\n",
    "    return head"
   ]
  },
  {
   "cell_type": "code",
   "execution_count": 35,
   "metadata": {},
   "outputs": [
    {
     "data": {
      "text/plain": [
       "<__main__.Node at 0x7ff75fabd730>"
      ]
     },
     "execution_count": 35,
     "metadata": {},
     "output_type": "execute_result"
    }
   ],
   "source": [
    "insertAtIRec(head,13,41)"
   ]
  },
  {
   "cell_type": "code",
   "execution_count": 36,
   "metadata": {},
   "outputs": [
    {
     "name": "stdout",
     "output_type": "stream",
     "text": [
      "1->2->3->4->5->43->6->7->43->23->4->None\n"
     ]
    }
   ],
   "source": [
    "printLL(head)"
   ]
  },
  {
   "cell_type": "code",
   "execution_count": 37,
   "metadata": {},
   "outputs": [
    {
     "data": {
      "text/plain": [
       "11"
      ]
     },
     "execution_count": 37,
     "metadata": {},
     "output_type": "execute_result"
    }
   ],
   "source": [
    "length(head)"
   ]
  },
  {
   "cell_type": "markdown",
   "metadata": {},
   "source": [
    "### Reverse a Linked List"
   ]
  },
  {
   "cell_type": "code",
   "execution_count": 1,
   "metadata": {},
   "outputs": [],
   "source": [
    "#Approach-1\n",
    "# Time complexity = O(n^2)\n",
    "def reverseLL(head):\n",
    "    if head.next is None:\n",
    "        return head\n",
    "    if head is None:\n",
    "        return None\n",
    "    \n",
    "    smallHead = reverseLL(head.next)\n",
    "    curr = smallHead\n",
    "    while curr.next is not None:\n",
    "        curr = curr.next\n",
    "    curr.next = head\n",
    "    head.next = None\n",
    "    return smallHead\n",
    "        "
   ]
  },
  {
   "cell_type": "code",
   "execution_count": 1,
   "metadata": {},
   "outputs": [],
   "source": [
    "#Approach-2\n",
    "# Time complexity = O(n)\n",
    "def reverseLLBetter(head):\n",
    "    if head.next is None or head is None:\n",
    "        return head,head\n",
    "    smallhead, smalltail = reverseLLBetter(head.next)\n",
    "    smalltail.next = head\n",
    "    head.next = None\n",
    "    return smallhead,head"
   ]
  },
  {
   "cell_type": "code",
   "execution_count": 2,
   "metadata": {},
   "outputs": [],
   "source": [
    "##Approach-3\n",
    "# Time complexity = O(n)\n",
    "def reverseLL(head):\n",
    "    if head.next is None:\n",
    "        return head\n",
    "    if head is None:\n",
    "        return None\n",
    "    \n",
    "    smallHead = reverseLL(head.next)\n",
    "    head.next.next = head\n",
    "    head.next = None\n",
    "    return smallHead"
   ]
  },
  {
   "cell_type": "code",
   "execution_count": 13,
   "metadata": {},
   "outputs": [],
   "source": [
    "def skipMdeleteN(head, M, N) :\n",
    "    if M == 0:\n",
    "        return\n",
    "    curr = head \n",
    "    while(curr): \n",
    "        for count in range(1,M): \n",
    "            if curr is None: \n",
    "                return \n",
    "            curr = curr.next\n",
    "        if curr is None : \n",
    "            return  \n",
    "        t = curr.next \n",
    "        for count in range(1, N+1): \n",
    "            if t is None: \n",
    "                break\n",
    "            t = t.next\n",
    "        curr.next = t \n",
    "        curr = t\n",
    "    return head"
   ]
  },
  {
   "cell_type": "code",
   "execution_count": 14,
   "metadata": {},
   "outputs": [],
   "source": [
    "newHead = skipMdeleteN(head, 2, 3)"
   ]
  },
  {
   "cell_type": "code",
   "execution_count": 15,
   "metadata": {},
   "outputs": [
    {
     "name": "stdout",
     "output_type": "stream",
     "text": [
      "None\n"
     ]
    }
   ],
   "source": [
    "printLL(newHead)"
   ]
  },
  {
   "cell_type": "code",
   "execution_count": 16,
   "metadata": {},
   "outputs": [
    {
     "ename": "SyntaxError",
     "evalue": "invalid syntax (<ipython-input-16-9c5a86951a17>, line 1)",
     "output_type": "error",
     "traceback": [
      "\u001b[0;36m  File \u001b[0;32m\"<ipython-input-16-9c5a86951a17>\"\u001b[0;36m, line \u001b[0;32m1\u001b[0m\n\u001b[0;31m    10 22 10 26 11 7 8 1 23 5 1\u001b[0m\n\u001b[0m       ^\u001b[0m\n\u001b[0;31mSyntaxError\u001b[0m\u001b[0;31m:\u001b[0m invalid syntax\n"
     ]
    }
   ],
   "source": [
    "10 22 10 26 11 7 8 1 23 5 1"
   ]
  },
  {
   "cell_type": "code",
   "execution_count": null,
   "metadata": {},
   "outputs": [],
   "source": [
    "      print()\n",
    "    \n",
    "    def bubbsort(self):\n",
    "        for i in range(self.nodecount-1):#for controlling passes of Bubble Sort\n",
    "            curr=self.start\n",
    "            nxt=curr.link\n",
    "            prev=None\n",
    "            while nxt:#Comparisons in passes\n",
    "                if curr.data>nxt.data:\n",
    "                    if prev==None:\n",
    "                       prev=curr.link\n",
    "                       nxt=nxt.link\n",
    "                       prev.link=curr\n",
    "                       curr.link=nxt\n",
    "                       self.start=prev\n",
    "                    else:   \n",
    "                        temp=nxt\n",
    "                        nxt=nxt.link\n",
    "                        prev.link=curr.link\n",
    "                        prev=temp\n",
    "                        temp.link=curr\n",
    "                        curr.link=nxt\n",
    "                else:           \n",
    "                    prev=curr\n",
    "                    curr=nxt\n",
    "                    nxt=nxt.link\n",
    "            i=i+1             \n",
    "           \n",
    "#Create blank Linked List        \n",
    "ll=LinearList()\n",
    "numele= input('How many elements to be added in the Linked List??')\n",
    "#add nodes at begging in the Linked List\n",
    "for cnt in range(int(numele)):\n",
    "    ele= input('Enter a value to be added at the beginning of the Linked List ')\n",
    "    ll.addBegNode(ele)\n",
    "    cnt=cnt+1\n",
    "#Print Linked List  before sorting  \n",
    "print(\"Linked List Initially\")\n",
    "ll.printList()\n",
    "ll.bubbsort()"
   ]
  }
 ],
 "metadata": {
  "kernelspec": {
   "display_name": "Python 3",
   "language": "python",
   "name": "python3"
  },
  "language_info": {
   "codemirror_mode": {
    "name": "ipython",
    "version": 3
   },
   "file_extension": ".py",
   "mimetype": "text/x-python",
   "name": "python",
   "nbconvert_exporter": "python",
   "pygments_lexer": "ipython3",
   "version": "3.8.3"
  }
 },
 "nbformat": 4,
 "nbformat_minor": 4
}
